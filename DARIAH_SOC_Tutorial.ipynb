{
  "nbformat": 4,
  "nbformat_minor": 0,
  "metadata": {
    "colab": {
      "provenance": [],
      "include_colab_link": true
    },
    "kernelspec": {
      "name": "python3",
      "display_name": "Python 3"
    },
    "language_info": {
      "name": "python"
    }
  },
  "cells": [
    {
      "cell_type": "markdown",
      "metadata": {
        "id": "view-in-github",
        "colab_type": "text"
      },
      "source": [
        "<a href=\"https://colab.research.google.com/github/sinairusinek/dariah-campus/blob/main/DARIAH_SOC_Tutorial.ipynb\" target=\"_parent\"><img src=\"https://colab.research.google.com/assets/colab-badge.svg\" alt=\"Open In Colab\"/></a>"
      ]
    },
    {
      "cell_type": "markdown",
      "source": [
        "## Standoff Converter Tutorial"
      ],
      "metadata": {
        "id": "CoEo2Ew_Dp7v"
      }
    },
    {
      "cell_type": "markdown",
      "source": [
        "## Connect to google drive"
      ],
      "metadata": {
        "id": "5OUZUGb412gg"
      }
    },
    {
      "cell_type": "code",
      "source": [
        "from google.colab import drive\n",
        "from google.colab import files\n",
        "drive.mount('/content/drive', force_remount=True)"
      ],
      "metadata": {
        "colab": {
          "base_uri": "https://localhost:8080/"
        },
        "id": "WUapcG9WrWe-",
        "outputId": "e74a1ba4-c3f9-4887-f022-e68bcc27eede"
      },
      "execution_count": 2,
      "outputs": [
        {
          "output_type": "stream",
          "name": "stdout",
          "text": [
            "Mounted at /content/drive\n"
          ]
        }
      ]
    },
    {
      "cell_type": "code",
      "source": [
        "uploaded = files.upload()\n",
        "filename = next(iter(uploaded))"
      ],
      "metadata": {
        "colab": {
          "base_uri": "https://localhost:8080/",
          "height": 91
        },
        "id": "S1_aApfXZRuQ",
        "outputId": "5d4a3f20-5644-47b9-84fe-970c159919e1"
      },
      "execution_count": 3,
      "outputs": [
        {
          "output_type": "display_data",
          "data": {
            "text/plain": [
              "<IPython.core.display.HTML object>"
            ],
            "text/html": [
              "\n",
              "     <input type=\"file\" id=\"files-70632754-4b88-431f-9630-469c10134800\" name=\"files[]\" multiple disabled\n",
              "        style=\"border:none\" />\n",
              "     <output id=\"result-70632754-4b88-431f-9630-469c10134800\">\n",
              "      Upload widget is only available when the cell has been executed in the\n",
              "      current browser session. Please rerun this cell to enable.\n",
              "      </output>\n",
              "      <script>// Copyright 2017 Google LLC\n",
              "//\n",
              "// Licensed under the Apache License, Version 2.0 (the \"License\");\n",
              "// you may not use this file except in compliance with the License.\n",
              "// You may obtain a copy of the License at\n",
              "//\n",
              "//      http://www.apache.org/licenses/LICENSE-2.0\n",
              "//\n",
              "// Unless required by applicable law or agreed to in writing, software\n",
              "// distributed under the License is distributed on an \"AS IS\" BASIS,\n",
              "// WITHOUT WARRANTIES OR CONDITIONS OF ANY KIND, either express or implied.\n",
              "// See the License for the specific language governing permissions and\n",
              "// limitations under the License.\n",
              "\n",
              "/**\n",
              " * @fileoverview Helpers for google.colab Python module.\n",
              " */\n",
              "(function(scope) {\n",
              "function span(text, styleAttributes = {}) {\n",
              "  const element = document.createElement('span');\n",
              "  element.textContent = text;\n",
              "  for (const key of Object.keys(styleAttributes)) {\n",
              "    element.style[key] = styleAttributes[key];\n",
              "  }\n",
              "  return element;\n",
              "}\n",
              "\n",
              "// Max number of bytes which will be uploaded at a time.\n",
              "const MAX_PAYLOAD_SIZE = 100 * 1024;\n",
              "\n",
              "function _uploadFiles(inputId, outputId) {\n",
              "  const steps = uploadFilesStep(inputId, outputId);\n",
              "  const outputElement = document.getElementById(outputId);\n",
              "  // Cache steps on the outputElement to make it available for the next call\n",
              "  // to uploadFilesContinue from Python.\n",
              "  outputElement.steps = steps;\n",
              "\n",
              "  return _uploadFilesContinue(outputId);\n",
              "}\n",
              "\n",
              "// This is roughly an async generator (not supported in the browser yet),\n",
              "// where there are multiple asynchronous steps and the Python side is going\n",
              "// to poll for completion of each step.\n",
              "// This uses a Promise to block the python side on completion of each step,\n",
              "// then passes the result of the previous step as the input to the next step.\n",
              "function _uploadFilesContinue(outputId) {\n",
              "  const outputElement = document.getElementById(outputId);\n",
              "  const steps = outputElement.steps;\n",
              "\n",
              "  const next = steps.next(outputElement.lastPromiseValue);\n",
              "  return Promise.resolve(next.value.promise).then((value) => {\n",
              "    // Cache the last promise value to make it available to the next\n",
              "    // step of the generator.\n",
              "    outputElement.lastPromiseValue = value;\n",
              "    return next.value.response;\n",
              "  });\n",
              "}\n",
              "\n",
              "/**\n",
              " * Generator function which is called between each async step of the upload\n",
              " * process.\n",
              " * @param {string} inputId Element ID of the input file picker element.\n",
              " * @param {string} outputId Element ID of the output display.\n",
              " * @return {!Iterable<!Object>} Iterable of next steps.\n",
              " */\n",
              "function* uploadFilesStep(inputId, outputId) {\n",
              "  const inputElement = document.getElementById(inputId);\n",
              "  inputElement.disabled = false;\n",
              "\n",
              "  const outputElement = document.getElementById(outputId);\n",
              "  outputElement.innerHTML = '';\n",
              "\n",
              "  const pickedPromise = new Promise((resolve) => {\n",
              "    inputElement.addEventListener('change', (e) => {\n",
              "      resolve(e.target.files);\n",
              "    });\n",
              "  });\n",
              "\n",
              "  const cancel = document.createElement('button');\n",
              "  inputElement.parentElement.appendChild(cancel);\n",
              "  cancel.textContent = 'Cancel upload';\n",
              "  const cancelPromise = new Promise((resolve) => {\n",
              "    cancel.onclick = () => {\n",
              "      resolve(null);\n",
              "    };\n",
              "  });\n",
              "\n",
              "  // Wait for the user to pick the files.\n",
              "  const files = yield {\n",
              "    promise: Promise.race([pickedPromise, cancelPromise]),\n",
              "    response: {\n",
              "      action: 'starting',\n",
              "    }\n",
              "  };\n",
              "\n",
              "  cancel.remove();\n",
              "\n",
              "  // Disable the input element since further picks are not allowed.\n",
              "  inputElement.disabled = true;\n",
              "\n",
              "  if (!files) {\n",
              "    return {\n",
              "      response: {\n",
              "        action: 'complete',\n",
              "      }\n",
              "    };\n",
              "  }\n",
              "\n",
              "  for (const file of files) {\n",
              "    const li = document.createElement('li');\n",
              "    li.append(span(file.name, {fontWeight: 'bold'}));\n",
              "    li.append(span(\n",
              "        `(${file.type || 'n/a'}) - ${file.size} bytes, ` +\n",
              "        `last modified: ${\n",
              "            file.lastModifiedDate ? file.lastModifiedDate.toLocaleDateString() :\n",
              "                                    'n/a'} - `));\n",
              "    const percent = span('0% done');\n",
              "    li.appendChild(percent);\n",
              "\n",
              "    outputElement.appendChild(li);\n",
              "\n",
              "    const fileDataPromise = new Promise((resolve) => {\n",
              "      const reader = new FileReader();\n",
              "      reader.onload = (e) => {\n",
              "        resolve(e.target.result);\n",
              "      };\n",
              "      reader.readAsArrayBuffer(file);\n",
              "    });\n",
              "    // Wait for the data to be ready.\n",
              "    let fileData = yield {\n",
              "      promise: fileDataPromise,\n",
              "      response: {\n",
              "        action: 'continue',\n",
              "      }\n",
              "    };\n",
              "\n",
              "    // Use a chunked sending to avoid message size limits. See b/62115660.\n",
              "    let position = 0;\n",
              "    do {\n",
              "      const length = Math.min(fileData.byteLength - position, MAX_PAYLOAD_SIZE);\n",
              "      const chunk = new Uint8Array(fileData, position, length);\n",
              "      position += length;\n",
              "\n",
              "      const base64 = btoa(String.fromCharCode.apply(null, chunk));\n",
              "      yield {\n",
              "        response: {\n",
              "          action: 'append',\n",
              "          file: file.name,\n",
              "          data: base64,\n",
              "        },\n",
              "      };\n",
              "\n",
              "      let percentDone = fileData.byteLength === 0 ?\n",
              "          100 :\n",
              "          Math.round((position / fileData.byteLength) * 100);\n",
              "      percent.textContent = `${percentDone}% done`;\n",
              "\n",
              "    } while (position < fileData.byteLength);\n",
              "  }\n",
              "\n",
              "  // All done.\n",
              "  yield {\n",
              "    response: {\n",
              "      action: 'complete',\n",
              "    }\n",
              "  };\n",
              "}\n",
              "\n",
              "scope.google = scope.google || {};\n",
              "scope.google.colab = scope.google.colab || {};\n",
              "scope.google.colab._files = {\n",
              "  _uploadFiles,\n",
              "  _uploadFilesContinue,\n",
              "};\n",
              "})(self);\n",
              "</script> "
            ]
          },
          "metadata": {}
        },
        {
          "output_type": "stream",
          "name": "stdout",
          "text": [
            "Saving EisensteinSamuelBenShimshon.xml to EisensteinSamuelBenShimshon.xml\n"
          ]
        }
      ]
    },
    {
      "cell_type": "markdown",
      "source": [
        "## Install SpaCy models and StandoffConverter"
      ],
      "metadata": {
        "id": "StYy1nG_17EA"
      }
    },
    {
      "cell_type": "code",
      "source": [
        "!python -m spacy download de_core_news_lg\n",
        "!python -m spacy download en_core_web_trf\n",
        "!pip install -q standoffconverter\n",
        "!pip install -q spacy-transformers"
      ],
      "metadata": {
        "id": "v3bPKb4XrluN",
        "colab": {
          "base_uri": "https://localhost:8080/"
        },
        "outputId": "b00b3051-397a-4265-ce64-39ae932b9f58"
      },
      "execution_count": 4,
      "outputs": [
        {
          "output_type": "stream",
          "name": "stdout",
          "text": [
            "Collecting de-core-news-lg==3.7.0\n",
            "  Downloading https://github.com/explosion/spacy-models/releases/download/de_core_news_lg-3.7.0/de_core_news_lg-3.7.0-py3-none-any.whl (567.8 MB)\n",
            "\u001b[2K     \u001b[90m━━━━━━━━━━━━━━━━━━━━━━━━━━━━━━━━━━━━━━━━\u001b[0m \u001b[32m567.8/567.8 MB\u001b[0m \u001b[31m1.8 MB/s\u001b[0m eta \u001b[36m0:00:00\u001b[0m\n",
            "\u001b[?25hRequirement already satisfied: spacy<3.8.0,>=3.7.0 in /usr/local/lib/python3.10/dist-packages (from de-core-news-lg==3.7.0) (3.7.5)\n",
            "Requirement already satisfied: spacy-legacy<3.1.0,>=3.0.11 in /usr/local/lib/python3.10/dist-packages (from spacy<3.8.0,>=3.7.0->de-core-news-lg==3.7.0) (3.0.12)\n",
            "Requirement already satisfied: spacy-loggers<2.0.0,>=1.0.0 in /usr/local/lib/python3.10/dist-packages (from spacy<3.8.0,>=3.7.0->de-core-news-lg==3.7.0) (1.0.5)\n",
            "Requirement already satisfied: murmurhash<1.1.0,>=0.28.0 in /usr/local/lib/python3.10/dist-packages (from spacy<3.8.0,>=3.7.0->de-core-news-lg==3.7.0) (1.0.10)\n",
            "Requirement already satisfied: cymem<2.1.0,>=2.0.2 in /usr/local/lib/python3.10/dist-packages (from spacy<3.8.0,>=3.7.0->de-core-news-lg==3.7.0) (2.0.8)\n",
            "Requirement already satisfied: preshed<3.1.0,>=3.0.2 in /usr/local/lib/python3.10/dist-packages (from spacy<3.8.0,>=3.7.0->de-core-news-lg==3.7.0) (3.0.9)\n",
            "Requirement already satisfied: thinc<8.3.0,>=8.2.2 in /usr/local/lib/python3.10/dist-packages (from spacy<3.8.0,>=3.7.0->de-core-news-lg==3.7.0) (8.2.4)\n",
            "Requirement already satisfied: wasabi<1.2.0,>=0.9.1 in /usr/local/lib/python3.10/dist-packages (from spacy<3.8.0,>=3.7.0->de-core-news-lg==3.7.0) (1.1.3)\n",
            "Requirement already satisfied: srsly<3.0.0,>=2.4.3 in /usr/local/lib/python3.10/dist-packages (from spacy<3.8.0,>=3.7.0->de-core-news-lg==3.7.0) (2.4.8)\n",
            "Requirement already satisfied: catalogue<2.1.0,>=2.0.6 in /usr/local/lib/python3.10/dist-packages (from spacy<3.8.0,>=3.7.0->de-core-news-lg==3.7.0) (2.0.10)\n",
            "Requirement already satisfied: weasel<0.5.0,>=0.1.0 in /usr/local/lib/python3.10/dist-packages (from spacy<3.8.0,>=3.7.0->de-core-news-lg==3.7.0) (0.4.1)\n",
            "Requirement already satisfied: typer<1.0.0,>=0.3.0 in /usr/local/lib/python3.10/dist-packages (from spacy<3.8.0,>=3.7.0->de-core-news-lg==3.7.0) (0.12.3)\n",
            "Requirement already satisfied: tqdm<5.0.0,>=4.38.0 in /usr/local/lib/python3.10/dist-packages (from spacy<3.8.0,>=3.7.0->de-core-news-lg==3.7.0) (4.66.4)\n",
            "Requirement already satisfied: requests<3.0.0,>=2.13.0 in /usr/local/lib/python3.10/dist-packages (from spacy<3.8.0,>=3.7.0->de-core-news-lg==3.7.0) (2.31.0)\n",
            "Requirement already satisfied: pydantic!=1.8,!=1.8.1,<3.0.0,>=1.7.4 in /usr/local/lib/python3.10/dist-packages (from spacy<3.8.0,>=3.7.0->de-core-news-lg==3.7.0) (2.7.3)\n",
            "Requirement already satisfied: jinja2 in /usr/local/lib/python3.10/dist-packages (from spacy<3.8.0,>=3.7.0->de-core-news-lg==3.7.0) (3.1.4)\n",
            "Requirement already satisfied: setuptools in /usr/local/lib/python3.10/dist-packages (from spacy<3.8.0,>=3.7.0->de-core-news-lg==3.7.0) (67.7.2)\n",
            "Requirement already satisfied: packaging>=20.0 in /usr/local/lib/python3.10/dist-packages (from spacy<3.8.0,>=3.7.0->de-core-news-lg==3.7.0) (24.1)\n",
            "Requirement already satisfied: langcodes<4.0.0,>=3.2.0 in /usr/local/lib/python3.10/dist-packages (from spacy<3.8.0,>=3.7.0->de-core-news-lg==3.7.0) (3.4.0)\n",
            "Requirement already satisfied: numpy>=1.19.0 in /usr/local/lib/python3.10/dist-packages (from spacy<3.8.0,>=3.7.0->de-core-news-lg==3.7.0) (1.25.2)\n",
            "Requirement already satisfied: language-data>=1.2 in /usr/local/lib/python3.10/dist-packages (from langcodes<4.0.0,>=3.2.0->spacy<3.8.0,>=3.7.0->de-core-news-lg==3.7.0) (1.2.0)\n",
            "Requirement already satisfied: annotated-types>=0.4.0 in /usr/local/lib/python3.10/dist-packages (from pydantic!=1.8,!=1.8.1,<3.0.0,>=1.7.4->spacy<3.8.0,>=3.7.0->de-core-news-lg==3.7.0) (0.7.0)\n",
            "Requirement already satisfied: pydantic-core==2.18.4 in /usr/local/lib/python3.10/dist-packages (from pydantic!=1.8,!=1.8.1,<3.0.0,>=1.7.4->spacy<3.8.0,>=3.7.0->de-core-news-lg==3.7.0) (2.18.4)\n",
            "Requirement already satisfied: typing-extensions>=4.6.1 in /usr/local/lib/python3.10/dist-packages (from pydantic!=1.8,!=1.8.1,<3.0.0,>=1.7.4->spacy<3.8.0,>=3.7.0->de-core-news-lg==3.7.0) (4.12.2)\n",
            "Requirement already satisfied: charset-normalizer<4,>=2 in /usr/local/lib/python3.10/dist-packages (from requests<3.0.0,>=2.13.0->spacy<3.8.0,>=3.7.0->de-core-news-lg==3.7.0) (3.3.2)\n",
            "Requirement already satisfied: idna<4,>=2.5 in /usr/local/lib/python3.10/dist-packages (from requests<3.0.0,>=2.13.0->spacy<3.8.0,>=3.7.0->de-core-news-lg==3.7.0) (3.7)\n",
            "Requirement already satisfied: urllib3<3,>=1.21.1 in /usr/local/lib/python3.10/dist-packages (from requests<3.0.0,>=2.13.0->spacy<3.8.0,>=3.7.0->de-core-news-lg==3.7.0) (2.0.7)\n",
            "Requirement already satisfied: certifi>=2017.4.17 in /usr/local/lib/python3.10/dist-packages (from requests<3.0.0,>=2.13.0->spacy<3.8.0,>=3.7.0->de-core-news-lg==3.7.0) (2024.6.2)\n",
            "Requirement already satisfied: blis<0.8.0,>=0.7.8 in /usr/local/lib/python3.10/dist-packages (from thinc<8.3.0,>=8.2.2->spacy<3.8.0,>=3.7.0->de-core-news-lg==3.7.0) (0.7.11)\n",
            "Requirement already satisfied: confection<1.0.0,>=0.0.1 in /usr/local/lib/python3.10/dist-packages (from thinc<8.3.0,>=8.2.2->spacy<3.8.0,>=3.7.0->de-core-news-lg==3.7.0) (0.1.5)\n",
            "Requirement already satisfied: click>=8.0.0 in /usr/local/lib/python3.10/dist-packages (from typer<1.0.0,>=0.3.0->spacy<3.8.0,>=3.7.0->de-core-news-lg==3.7.0) (8.1.7)\n",
            "Requirement already satisfied: shellingham>=1.3.0 in /usr/local/lib/python3.10/dist-packages (from typer<1.0.0,>=0.3.0->spacy<3.8.0,>=3.7.0->de-core-news-lg==3.7.0) (1.5.4)\n",
            "Requirement already satisfied: rich>=10.11.0 in /usr/local/lib/python3.10/dist-packages (from typer<1.0.0,>=0.3.0->spacy<3.8.0,>=3.7.0->de-core-news-lg==3.7.0) (13.7.1)\n",
            "Requirement already satisfied: cloudpathlib<1.0.0,>=0.7.0 in /usr/local/lib/python3.10/dist-packages (from weasel<0.5.0,>=0.1.0->spacy<3.8.0,>=3.7.0->de-core-news-lg==3.7.0) (0.18.1)\n",
            "Requirement already satisfied: smart-open<8.0.0,>=5.2.1 in /usr/local/lib/python3.10/dist-packages (from weasel<0.5.0,>=0.1.0->spacy<3.8.0,>=3.7.0->de-core-news-lg==3.7.0) (7.0.4)\n",
            "Requirement already satisfied: MarkupSafe>=2.0 in /usr/local/lib/python3.10/dist-packages (from jinja2->spacy<3.8.0,>=3.7.0->de-core-news-lg==3.7.0) (2.1.5)\n",
            "Requirement already satisfied: marisa-trie>=0.7.7 in /usr/local/lib/python3.10/dist-packages (from language-data>=1.2->langcodes<4.0.0,>=3.2.0->spacy<3.8.0,>=3.7.0->de-core-news-lg==3.7.0) (1.2.0)\n",
            "Requirement already satisfied: markdown-it-py>=2.2.0 in /usr/local/lib/python3.10/dist-packages (from rich>=10.11.0->typer<1.0.0,>=0.3.0->spacy<3.8.0,>=3.7.0->de-core-news-lg==3.7.0) (3.0.0)\n",
            "Requirement already satisfied: pygments<3.0.0,>=2.13.0 in /usr/local/lib/python3.10/dist-packages (from rich>=10.11.0->typer<1.0.0,>=0.3.0->spacy<3.8.0,>=3.7.0->de-core-news-lg==3.7.0) (2.16.1)\n",
            "Requirement already satisfied: wrapt in /usr/local/lib/python3.10/dist-packages (from smart-open<8.0.0,>=5.2.1->weasel<0.5.0,>=0.1.0->spacy<3.8.0,>=3.7.0->de-core-news-lg==3.7.0) (1.14.1)\n",
            "Requirement already satisfied: mdurl~=0.1 in /usr/local/lib/python3.10/dist-packages (from markdown-it-py>=2.2.0->rich>=10.11.0->typer<1.0.0,>=0.3.0->spacy<3.8.0,>=3.7.0->de-core-news-lg==3.7.0) (0.1.2)\n",
            "Installing collected packages: de-core-news-lg\n",
            "Successfully installed de-core-news-lg-3.7.0\n",
            "\u001b[38;5;2m✔ Download and installation successful\u001b[0m\n",
            "You can now load the package via spacy.load('de_core_news_lg')\n",
            "\u001b[38;5;3m⚠ Restart to reload dependencies\u001b[0m\n",
            "If you are in a Jupyter or Colab notebook, you may need to restart Python in\n",
            "order to load all the package's dependencies. You can do this by selecting the\n",
            "'Restart kernel' or 'Restart runtime' option.\n",
            "Collecting en-core-web-trf==3.7.3\n",
            "  Downloading https://github.com/explosion/spacy-models/releases/download/en_core_web_trf-3.7.3/en_core_web_trf-3.7.3-py3-none-any.whl (457.4 MB)\n",
            "\u001b[2K     \u001b[90m━━━━━━━━━━━━━━━━━━━━━━━━━━━━━━━━━━━━━━━━\u001b[0m \u001b[32m457.4/457.4 MB\u001b[0m \u001b[31m3.0 MB/s\u001b[0m eta \u001b[36m0:00:00\u001b[0m\n",
            "\u001b[?25hRequirement already satisfied: spacy<3.8.0,>=3.7.2 in /usr/local/lib/python3.10/dist-packages (from en-core-web-trf==3.7.3) (3.7.5)\n",
            "Collecting spacy-curated-transformers<0.3.0,>=0.2.0 (from en-core-web-trf==3.7.3)\n",
            "  Downloading spacy_curated_transformers-0.2.2-py2.py3-none-any.whl (236 kB)\n",
            "\u001b[2K     \u001b[90m━━━━━━━━━━━━━━━━━━━━━━━━━━━━━━━━━━━━━━━━\u001b[0m \u001b[32m236.3/236.3 kB\u001b[0m \u001b[31m1.7 MB/s\u001b[0m eta \u001b[36m0:00:00\u001b[0m\n",
            "\u001b[?25hRequirement already satisfied: spacy-legacy<3.1.0,>=3.0.11 in /usr/local/lib/python3.10/dist-packages (from spacy<3.8.0,>=3.7.2->en-core-web-trf==3.7.3) (3.0.12)\n",
            "Requirement already satisfied: spacy-loggers<2.0.0,>=1.0.0 in /usr/local/lib/python3.10/dist-packages (from spacy<3.8.0,>=3.7.2->en-core-web-trf==3.7.3) (1.0.5)\n",
            "Requirement already satisfied: murmurhash<1.1.0,>=0.28.0 in /usr/local/lib/python3.10/dist-packages (from spacy<3.8.0,>=3.7.2->en-core-web-trf==3.7.3) (1.0.10)\n",
            "Requirement already satisfied: cymem<2.1.0,>=2.0.2 in /usr/local/lib/python3.10/dist-packages (from spacy<3.8.0,>=3.7.2->en-core-web-trf==3.7.3) (2.0.8)\n",
            "Requirement already satisfied: preshed<3.1.0,>=3.0.2 in /usr/local/lib/python3.10/dist-packages (from spacy<3.8.0,>=3.7.2->en-core-web-trf==3.7.3) (3.0.9)\n",
            "Requirement already satisfied: thinc<8.3.0,>=8.2.2 in /usr/local/lib/python3.10/dist-packages (from spacy<3.8.0,>=3.7.2->en-core-web-trf==3.7.3) (8.2.4)\n",
            "Requirement already satisfied: wasabi<1.2.0,>=0.9.1 in /usr/local/lib/python3.10/dist-packages (from spacy<3.8.0,>=3.7.2->en-core-web-trf==3.7.3) (1.1.3)\n",
            "Requirement already satisfied: srsly<3.0.0,>=2.4.3 in /usr/local/lib/python3.10/dist-packages (from spacy<3.8.0,>=3.7.2->en-core-web-trf==3.7.3) (2.4.8)\n",
            "Requirement already satisfied: catalogue<2.1.0,>=2.0.6 in /usr/local/lib/python3.10/dist-packages (from spacy<3.8.0,>=3.7.2->en-core-web-trf==3.7.3) (2.0.10)\n",
            "Requirement already satisfied: weasel<0.5.0,>=0.1.0 in /usr/local/lib/python3.10/dist-packages (from spacy<3.8.0,>=3.7.2->en-core-web-trf==3.7.3) (0.4.1)\n",
            "Requirement already satisfied: typer<1.0.0,>=0.3.0 in /usr/local/lib/python3.10/dist-packages (from spacy<3.8.0,>=3.7.2->en-core-web-trf==3.7.3) (0.12.3)\n",
            "Requirement already satisfied: tqdm<5.0.0,>=4.38.0 in /usr/local/lib/python3.10/dist-packages (from spacy<3.8.0,>=3.7.2->en-core-web-trf==3.7.3) (4.66.4)\n",
            "Requirement already satisfied: requests<3.0.0,>=2.13.0 in /usr/local/lib/python3.10/dist-packages (from spacy<3.8.0,>=3.7.2->en-core-web-trf==3.7.3) (2.31.0)\n",
            "Requirement already satisfied: pydantic!=1.8,!=1.8.1,<3.0.0,>=1.7.4 in /usr/local/lib/python3.10/dist-packages (from spacy<3.8.0,>=3.7.2->en-core-web-trf==3.7.3) (2.7.3)\n",
            "Requirement already satisfied: jinja2 in /usr/local/lib/python3.10/dist-packages (from spacy<3.8.0,>=3.7.2->en-core-web-trf==3.7.3) (3.1.4)\n",
            "Requirement already satisfied: setuptools in /usr/local/lib/python3.10/dist-packages (from spacy<3.8.0,>=3.7.2->en-core-web-trf==3.7.3) (67.7.2)\n",
            "Requirement already satisfied: packaging>=20.0 in /usr/local/lib/python3.10/dist-packages (from spacy<3.8.0,>=3.7.2->en-core-web-trf==3.7.3) (24.1)\n",
            "Requirement already satisfied: langcodes<4.0.0,>=3.2.0 in /usr/local/lib/python3.10/dist-packages (from spacy<3.8.0,>=3.7.2->en-core-web-trf==3.7.3) (3.4.0)\n",
            "Requirement already satisfied: numpy>=1.19.0 in /usr/local/lib/python3.10/dist-packages (from spacy<3.8.0,>=3.7.2->en-core-web-trf==3.7.3) (1.25.2)\n",
            "Collecting curated-transformers<0.2.0,>=0.1.0 (from spacy-curated-transformers<0.3.0,>=0.2.0->en-core-web-trf==3.7.3)\n",
            "  Downloading curated_transformers-0.1.1-py2.py3-none-any.whl (25 kB)\n",
            "Collecting curated-tokenizers<0.1.0,>=0.0.9 (from spacy-curated-transformers<0.3.0,>=0.2.0->en-core-web-trf==3.7.3)\n",
            "  Downloading curated_tokenizers-0.0.9-cp310-cp310-manylinux_2_17_x86_64.manylinux2014_x86_64.whl (731 kB)\n",
            "\u001b[2K     \u001b[90m━━━━━━━━━━━━━━━━━━━━━━━━━━━━━━━━━━━━━━━━\u001b[0m \u001b[32m731.6/731.6 kB\u001b[0m \u001b[31m10.8 MB/s\u001b[0m eta \u001b[36m0:00:00\u001b[0m\n",
            "\u001b[?25hRequirement already satisfied: torch>=1.12.0 in /usr/local/lib/python3.10/dist-packages (from spacy-curated-transformers<0.3.0,>=0.2.0->en-core-web-trf==3.7.3) (2.3.0+cu121)\n",
            "Requirement already satisfied: regex>=2022 in /usr/local/lib/python3.10/dist-packages (from curated-tokenizers<0.1.0,>=0.0.9->spacy-curated-transformers<0.3.0,>=0.2.0->en-core-web-trf==3.7.3) (2024.5.15)\n",
            "Requirement already satisfied: language-data>=1.2 in /usr/local/lib/python3.10/dist-packages (from langcodes<4.0.0,>=3.2.0->spacy<3.8.0,>=3.7.2->en-core-web-trf==3.7.3) (1.2.0)\n",
            "Requirement already satisfied: annotated-types>=0.4.0 in /usr/local/lib/python3.10/dist-packages (from pydantic!=1.8,!=1.8.1,<3.0.0,>=1.7.4->spacy<3.8.0,>=3.7.2->en-core-web-trf==3.7.3) (0.7.0)\n",
            "Requirement already satisfied: pydantic-core==2.18.4 in /usr/local/lib/python3.10/dist-packages (from pydantic!=1.8,!=1.8.1,<3.0.0,>=1.7.4->spacy<3.8.0,>=3.7.2->en-core-web-trf==3.7.3) (2.18.4)\n",
            "Requirement already satisfied: typing-extensions>=4.6.1 in /usr/local/lib/python3.10/dist-packages (from pydantic!=1.8,!=1.8.1,<3.0.0,>=1.7.4->spacy<3.8.0,>=3.7.2->en-core-web-trf==3.7.3) (4.12.2)\n",
            "Requirement already satisfied: charset-normalizer<4,>=2 in /usr/local/lib/python3.10/dist-packages (from requests<3.0.0,>=2.13.0->spacy<3.8.0,>=3.7.2->en-core-web-trf==3.7.3) (3.3.2)\n",
            "Requirement already satisfied: idna<4,>=2.5 in /usr/local/lib/python3.10/dist-packages (from requests<3.0.0,>=2.13.0->spacy<3.8.0,>=3.7.2->en-core-web-trf==3.7.3) (3.7)\n",
            "Requirement already satisfied: urllib3<3,>=1.21.1 in /usr/local/lib/python3.10/dist-packages (from requests<3.0.0,>=2.13.0->spacy<3.8.0,>=3.7.2->en-core-web-trf==3.7.3) (2.0.7)\n",
            "Requirement already satisfied: certifi>=2017.4.17 in /usr/local/lib/python3.10/dist-packages (from requests<3.0.0,>=2.13.0->spacy<3.8.0,>=3.7.2->en-core-web-trf==3.7.3) (2024.6.2)\n",
            "Requirement already satisfied: blis<0.8.0,>=0.7.8 in /usr/local/lib/python3.10/dist-packages (from thinc<8.3.0,>=8.2.2->spacy<3.8.0,>=3.7.2->en-core-web-trf==3.7.3) (0.7.11)\n",
            "Requirement already satisfied: confection<1.0.0,>=0.0.1 in /usr/local/lib/python3.10/dist-packages (from thinc<8.3.0,>=8.2.2->spacy<3.8.0,>=3.7.2->en-core-web-trf==3.7.3) (0.1.5)\n",
            "Requirement already satisfied: filelock in /usr/local/lib/python3.10/dist-packages (from torch>=1.12.0->spacy-curated-transformers<0.3.0,>=0.2.0->en-core-web-trf==3.7.3) (3.14.0)\n",
            "Requirement already satisfied: sympy in /usr/local/lib/python3.10/dist-packages (from torch>=1.12.0->spacy-curated-transformers<0.3.0,>=0.2.0->en-core-web-trf==3.7.3) (1.12.1)\n",
            "Requirement already satisfied: networkx in /usr/local/lib/python3.10/dist-packages (from torch>=1.12.0->spacy-curated-transformers<0.3.0,>=0.2.0->en-core-web-trf==3.7.3) (3.3)\n",
            "Requirement already satisfied: fsspec in /usr/local/lib/python3.10/dist-packages (from torch>=1.12.0->spacy-curated-transformers<0.3.0,>=0.2.0->en-core-web-trf==3.7.3) (2023.6.0)\n",
            "Collecting nvidia-cuda-nvrtc-cu12==12.1.105 (from torch>=1.12.0->spacy-curated-transformers<0.3.0,>=0.2.0->en-core-web-trf==3.7.3)\n",
            "  Using cached nvidia_cuda_nvrtc_cu12-12.1.105-py3-none-manylinux1_x86_64.whl (23.7 MB)\n",
            "Collecting nvidia-cuda-runtime-cu12==12.1.105 (from torch>=1.12.0->spacy-curated-transformers<0.3.0,>=0.2.0->en-core-web-trf==3.7.3)\n",
            "  Using cached nvidia_cuda_runtime_cu12-12.1.105-py3-none-manylinux1_x86_64.whl (823 kB)\n",
            "Collecting nvidia-cuda-cupti-cu12==12.1.105 (from torch>=1.12.0->spacy-curated-transformers<0.3.0,>=0.2.0->en-core-web-trf==3.7.3)\n",
            "  Using cached nvidia_cuda_cupti_cu12-12.1.105-py3-none-manylinux1_x86_64.whl (14.1 MB)\n",
            "Collecting nvidia-cudnn-cu12==8.9.2.26 (from torch>=1.12.0->spacy-curated-transformers<0.3.0,>=0.2.0->en-core-web-trf==3.7.3)\n",
            "  Using cached nvidia_cudnn_cu12-8.9.2.26-py3-none-manylinux1_x86_64.whl (731.7 MB)\n",
            "Collecting nvidia-cublas-cu12==12.1.3.1 (from torch>=1.12.0->spacy-curated-transformers<0.3.0,>=0.2.0->en-core-web-trf==3.7.3)\n",
            "  Using cached nvidia_cublas_cu12-12.1.3.1-py3-none-manylinux1_x86_64.whl (410.6 MB)\n",
            "Collecting nvidia-cufft-cu12==11.0.2.54 (from torch>=1.12.0->spacy-curated-transformers<0.3.0,>=0.2.0->en-core-web-trf==3.7.3)\n",
            "  Using cached nvidia_cufft_cu12-11.0.2.54-py3-none-manylinux1_x86_64.whl (121.6 MB)\n",
            "Collecting nvidia-curand-cu12==10.3.2.106 (from torch>=1.12.0->spacy-curated-transformers<0.3.0,>=0.2.0->en-core-web-trf==3.7.3)\n",
            "  Using cached nvidia_curand_cu12-10.3.2.106-py3-none-manylinux1_x86_64.whl (56.5 MB)\n",
            "Collecting nvidia-cusolver-cu12==11.4.5.107 (from torch>=1.12.0->spacy-curated-transformers<0.3.0,>=0.2.0->en-core-web-trf==3.7.3)\n",
            "  Using cached nvidia_cusolver_cu12-11.4.5.107-py3-none-manylinux1_x86_64.whl (124.2 MB)\n",
            "Collecting nvidia-cusparse-cu12==12.1.0.106 (from torch>=1.12.0->spacy-curated-transformers<0.3.0,>=0.2.0->en-core-web-trf==3.7.3)\n",
            "  Using cached nvidia_cusparse_cu12-12.1.0.106-py3-none-manylinux1_x86_64.whl (196.0 MB)\n",
            "Collecting nvidia-nccl-cu12==2.20.5 (from torch>=1.12.0->spacy-curated-transformers<0.3.0,>=0.2.0->en-core-web-trf==3.7.3)\n",
            "  Using cached nvidia_nccl_cu12-2.20.5-py3-none-manylinux2014_x86_64.whl (176.2 MB)\n",
            "Collecting nvidia-nvtx-cu12==12.1.105 (from torch>=1.12.0->spacy-curated-transformers<0.3.0,>=0.2.0->en-core-web-trf==3.7.3)\n",
            "  Using cached nvidia_nvtx_cu12-12.1.105-py3-none-manylinux1_x86_64.whl (99 kB)\n",
            "Requirement already satisfied: triton==2.3.0 in /usr/local/lib/python3.10/dist-packages (from torch>=1.12.0->spacy-curated-transformers<0.3.0,>=0.2.0->en-core-web-trf==3.7.3) (2.3.0)\n",
            "Collecting nvidia-nvjitlink-cu12 (from nvidia-cusolver-cu12==11.4.5.107->torch>=1.12.0->spacy-curated-transformers<0.3.0,>=0.2.0->en-core-web-trf==3.7.3)\n",
            "  Downloading nvidia_nvjitlink_cu12-12.5.40-py3-none-manylinux2014_x86_64.whl (21.3 MB)\n",
            "\u001b[2K     \u001b[90m━━━━━━━━━━━━━━━━━━━━━━━━━━━━━━━━━━━━━━━━\u001b[0m \u001b[32m21.3/21.3 MB\u001b[0m \u001b[31m46.6 MB/s\u001b[0m eta \u001b[36m0:00:00\u001b[0m\n",
            "\u001b[?25hRequirement already satisfied: click>=8.0.0 in /usr/local/lib/python3.10/dist-packages (from typer<1.0.0,>=0.3.0->spacy<3.8.0,>=3.7.2->en-core-web-trf==3.7.3) (8.1.7)\n",
            "Requirement already satisfied: shellingham>=1.3.0 in /usr/local/lib/python3.10/dist-packages (from typer<1.0.0,>=0.3.0->spacy<3.8.0,>=3.7.2->en-core-web-trf==3.7.3) (1.5.4)\n",
            "Requirement already satisfied: rich>=10.11.0 in /usr/local/lib/python3.10/dist-packages (from typer<1.0.0,>=0.3.0->spacy<3.8.0,>=3.7.2->en-core-web-trf==3.7.3) (13.7.1)\n",
            "Requirement already satisfied: cloudpathlib<1.0.0,>=0.7.0 in /usr/local/lib/python3.10/dist-packages (from weasel<0.5.0,>=0.1.0->spacy<3.8.0,>=3.7.2->en-core-web-trf==3.7.3) (0.18.1)\n",
            "Requirement already satisfied: smart-open<8.0.0,>=5.2.1 in /usr/local/lib/python3.10/dist-packages (from weasel<0.5.0,>=0.1.0->spacy<3.8.0,>=3.7.2->en-core-web-trf==3.7.3) (7.0.4)\n",
            "Requirement already satisfied: MarkupSafe>=2.0 in /usr/local/lib/python3.10/dist-packages (from jinja2->spacy<3.8.0,>=3.7.2->en-core-web-trf==3.7.3) (2.1.5)\n",
            "Requirement already satisfied: marisa-trie>=0.7.7 in /usr/local/lib/python3.10/dist-packages (from language-data>=1.2->langcodes<4.0.0,>=3.2.0->spacy<3.8.0,>=3.7.2->en-core-web-trf==3.7.3) (1.2.0)\n",
            "Requirement already satisfied: markdown-it-py>=2.2.0 in /usr/local/lib/python3.10/dist-packages (from rich>=10.11.0->typer<1.0.0,>=0.3.0->spacy<3.8.0,>=3.7.2->en-core-web-trf==3.7.3) (3.0.0)\n",
            "Requirement already satisfied: pygments<3.0.0,>=2.13.0 in /usr/local/lib/python3.10/dist-packages (from rich>=10.11.0->typer<1.0.0,>=0.3.0->spacy<3.8.0,>=3.7.2->en-core-web-trf==3.7.3) (2.16.1)\n",
            "Requirement already satisfied: wrapt in /usr/local/lib/python3.10/dist-packages (from smart-open<8.0.0,>=5.2.1->weasel<0.5.0,>=0.1.0->spacy<3.8.0,>=3.7.2->en-core-web-trf==3.7.3) (1.14.1)\n",
            "Requirement already satisfied: mpmath<1.4.0,>=1.1.0 in /usr/local/lib/python3.10/dist-packages (from sympy->torch>=1.12.0->spacy-curated-transformers<0.3.0,>=0.2.0->en-core-web-trf==3.7.3) (1.3.0)\n",
            "Requirement already satisfied: mdurl~=0.1 in /usr/local/lib/python3.10/dist-packages (from markdown-it-py>=2.2.0->rich>=10.11.0->typer<1.0.0,>=0.3.0->spacy<3.8.0,>=3.7.2->en-core-web-trf==3.7.3) (0.1.2)\n",
            "Installing collected packages: nvidia-nvtx-cu12, nvidia-nvjitlink-cu12, nvidia-nccl-cu12, nvidia-curand-cu12, nvidia-cufft-cu12, nvidia-cuda-runtime-cu12, nvidia-cuda-nvrtc-cu12, nvidia-cuda-cupti-cu12, nvidia-cublas-cu12, curated-tokenizers, nvidia-cusparse-cu12, nvidia-cudnn-cu12, nvidia-cusolver-cu12, curated-transformers, spacy-curated-transformers, en-core-web-trf\n",
            "Successfully installed curated-tokenizers-0.0.9 curated-transformers-0.1.1 en-core-web-trf-3.7.3 nvidia-cublas-cu12-12.1.3.1 nvidia-cuda-cupti-cu12-12.1.105 nvidia-cuda-nvrtc-cu12-12.1.105 nvidia-cuda-runtime-cu12-12.1.105 nvidia-cudnn-cu12-8.9.2.26 nvidia-cufft-cu12-11.0.2.54 nvidia-curand-cu12-10.3.2.106 nvidia-cusolver-cu12-11.4.5.107 nvidia-cusparse-cu12-12.1.0.106 nvidia-nccl-cu12-2.20.5 nvidia-nvjitlink-cu12-12.5.40 nvidia-nvtx-cu12-12.1.105 spacy-curated-transformers-0.2.2\n",
            "\u001b[38;5;2m✔ Download and installation successful\u001b[0m\n",
            "You can now load the package via spacy.load('en_core_web_trf')\n",
            "\u001b[38;5;3m⚠ Restart to reload dependencies\u001b[0m\n",
            "If you are in a Jupyter or Colab notebook, you may need to restart Python in\n",
            "order to load all the package's dependencies. You can do this by selecting the\n",
            "'Restart kernel' or 'Restart runtime' option.\n",
            "  Preparing metadata (setup.py) ... \u001b[?25l\u001b[?25hdone\n",
            "  Building wheel for standoffconverter (setup.py) ... \u001b[?25l\u001b[?25hdone\n",
            "\u001b[2K     \u001b[90m━━━━━━━━━━━━━━━━━━━━━━━━━━━━━━━━━━━━━━━━\u001b[0m \u001b[32m197.8/197.8 kB\u001b[0m \u001b[31m1.0 MB/s\u001b[0m eta \u001b[36m0:00:00\u001b[0m\n",
            "\u001b[2K     \u001b[90m━━━━━━━━━━━━━━━━━━━━━━━━━━━━━━━━━━━━━━━━\u001b[0m \u001b[32m8.2/8.2 MB\u001b[0m \u001b[31m2.1 MB/s\u001b[0m eta \u001b[36m0:00:00\u001b[0m\n",
            "\u001b[2K     \u001b[90m━━━━━━━━━━━━━━━━━━━━━━━━━━━━━━━━━━━━━━━━\u001b[0m \u001b[32m314.0/314.0 kB\u001b[0m \u001b[31m2.8 MB/s\u001b[0m eta \u001b[36m0:00:00\u001b[0m\n",
            "\u001b[2K     \u001b[90m━━━━━━━━━━━━━━━━━━━━━━━━━━━━━━━━━━━━━━━━\u001b[0m \u001b[32m3.6/3.6 MB\u001b[0m \u001b[31m2.6 MB/s\u001b[0m eta \u001b[36m0:00:00\u001b[0m\n",
            "\u001b[?25h"
          ]
        }
      ]
    },
    {
      "cell_type": "code",
      "source": [
        "ner_dict = {'en': 'en_core_web_trf',\n",
        "            'de': 'de_core_news_lg'}"
      ],
      "metadata": {
        "id": "bhOMES3PEqG1"
      },
      "execution_count": 5,
      "outputs": []
    },
    {
      "cell_type": "code",
      "source": [
        "lang = None\n",
        "while lang not in ner_dict.keys():\n",
        "  lang = input('Choose language (en/de) or `q` to quit:')\n",
        "  if lang == 'q':\n",
        "    break\n",
        "  elif lang not in ner_dict.keys():\n",
        "    print('input should either en or de (or q to quit)')\n",
        "\n",
        "if lang not in ner_dict.keys():\n",
        "    print('No language was chosen')\n",
        "else:\n",
        "  print(lang, 'language selected')"
      ],
      "metadata": {
        "colab": {
          "base_uri": "https://localhost:8080/"
        },
        "id": "UAy8zk23BGc-",
        "outputId": "55cac66f-a942-4db7-8238-2411d86ddf98"
      },
      "execution_count": 6,
      "outputs": [
        {
          "output_type": "stream",
          "name": "stdout",
          "text": [
            "Choose language (en/de) or `q` to quit:en\n",
            "en language selected\n"
          ]
        }
      ]
    },
    {
      "cell_type": "markdown",
      "source": [
        "# Tutorial Start"
      ],
      "metadata": {
        "id": "YZ8wNYSpzHEF"
      }
    },
    {
      "cell_type": "markdown",
      "source": [
        "## Import libraries and set constants"
      ],
      "metadata": {
        "id": "hFUk_9DBrtra"
      }
    },
    {
      "cell_type": "code",
      "source": [
        "from lxml import etree\n",
        "from standoffconverter import Standoff, View\n",
        "\n",
        "import spacy\n",
        "import spacy_transformers\n",
        "\n",
        "import pandas as pd"
      ],
      "metadata": {
        "id": "QYlZ3znPrzld",
        "outputId": "159de40d-877a-4372-a5d5-bd97edac49d5",
        "colab": {
          "base_uri": "https://localhost:8080/"
        }
      },
      "execution_count": 7,
      "outputs": [
        {
          "output_type": "stream",
          "name": "stderr",
          "text": [
            "/usr/local/lib/python3.10/dist-packages/transformers/utils/generic.py:441: UserWarning: torch.utils._pytree._register_pytree_node is deprecated. Please use torch.utils._pytree.register_pytree_node instead.\n",
            "  _torch_pytree._register_pytree_node(\n",
            "/usr/local/lib/python3.10/dist-packages/transformers/utils/generic.py:309: UserWarning: torch.utils._pytree._register_pytree_node is deprecated. Please use torch.utils._pytree.register_pytree_node instead.\n",
            "  _torch_pytree._register_pytree_node(\n"
          ]
        }
      ]
    },
    {
      "cell_type": "code",
      "source": [
        "tags_dict = {\"LOC\": {\"tag\": \"placeName\", \"attr\":{\"type\": \"loc\"}},\n",
        "             \"GPE\": {\"tag\": \"placeName\", \"attr\":{\"type\": \"gpe\"}},\n",
        "             \"PERSON\": {\"tag\": \"persName\", \"attr\":{}},\n",
        "             \"ORG\": {\"tag\": \"orgName\", \"attr\":{}},\n",
        "             \"DATE\": {\"tag\": \"date\", \"attr\":{}},\n",
        "             \"WORK\": {\"tag\": \"name\", \"attr\":{\"type\": \"work\"}},\n",
        "             \"MISC\": {\"tag\": \"name\", \"attr\":{\"type\": \"misc\"}},\n",
        "             \"FAC\": {\"tag\": \"orgName\", \"attr\":{\"type\": \"theater\"}}}\n",
        "             #\"NORP\": {\"tag\": \"name\", \"attr\":{\"type\": \"nationality\"}},\n",
        "             #\"ORDINAL\": {\"tag\": \"num\", \"attr\":{\"type\": \"ordinal\"}},\n",
        "             #\"CARDINAL\": {\"tag\": \"num\", \"attr\":{\"type\": \"cardinal\"}},\n",
        "             #\"MONEY\": {\"tag\": \"num\", \"attr\":{\"type\": \"money\"}},\n",
        "             #\"PERCENT\": {\"tag\": \"num\", \"attr\":{\"type\": \"percent\"}},\n",
        "             #\"LANGUAGE\": {\"tag\": \"language\", \"attr\":{}},#not working in TEI! reconsider\n",
        "             #\"EVENT\": {\"tag\": \"event\", \"attr\":{\"type\": \"?\"}}}\n",
        "             #\"PRODUCT\": {\"tag\": \"?\", \"attr\":{\"type\": \"?\"}}}\n",
        "             #\"LAW\": {\"tag\": \"?\", \"attr\":{\"type\": \"?\"}}}\n",
        "             #\"TIME\": {\"tag\": \"?\", \"attr\":{\"type\": \"?\"}}}\n",
        "             #\"MONEY\": {\"tag\": \"?\", \"attr\":{\"type\": \"?\"}}}\n",
        "             #\"QUANTITY\": {\"tag\": \"?\", \"attr\":{\"type\": \"?\"}}}"
      ],
      "metadata": {
        "id": "LmGssgvQoCS7"
      },
      "execution_count": 8,
      "outputs": []
    },
    {
      "cell_type": "markdown",
      "source": [
        "## Set input and output file paths"
      ],
      "metadata": {
        "id": "Ghuj06tEy-74"
      }
    },
    {
      "cell_type": "code",
      "source": [
        "\n",
        "filename = \"Kalman-Yuvelier.xml\"\n",
        "#filename = \"IL-MTFN-001-G-F-0353-18.xml\""
      ],
      "metadata": {
        "id": "r48Xf4yIKwQ7"
      },
      "execution_count": null,
      "outputs": []
    },
    {
      "cell_type": "code",
      "source": [
        "# Make dynamic relative to provided file\n",
        "xml_path = '/content/' + filename\n",
        "so_ner_result = '/content/soc_ner_results' + filename"
      ],
      "metadata": {
        "id": "YKuOdCZodvcH"
      },
      "execution_count": 9,
      "outputs": []
    },
    {
      "cell_type": "markdown",
      "source": [
        "## Load XML-TEI and parse it with Standoff"
      ],
      "metadata": {
        "id": "L0gQZIKD05CH"
      }
    },
    {
      "cell_type": "code",
      "source": [
        "# parser = etree.XMLParser(remove_blank_text=True)\n",
        "tree = etree.parse(xml_path)\n",
        "namespaces = {'tei': 'http://www.tei-c.org/ns/1.0'}\n",
        "so = Standoff(tree, namespaces)"
      ],
      "metadata": {
        "id": "pEDr7zJepBdX"
      },
      "execution_count": 10,
      "outputs": []
    },
    {
      "cell_type": "code",
      "source": [
        "so.plain[:1000]"
      ],
      "metadata": {
        "colab": {
          "base_uri": "https://localhost:8080/",
          "height": 268
        },
        "id": "yh5_xyMf1DxU",
        "outputId": "9ec0c999-eb83-4c57-9d73-ae48720d8ffd"
      },
      "execution_count": 11,
      "outputs": [
        {
          "output_type": "execute_result",
          "data": {
            "text/plain": [
              "'\\n          ITINERARY OF RABBI SAMUEL BEN SAMSON IN 1210\\nR. Samuel ben Samson made a pilgrimage to Palestine in 1210 in company of the distinguished R. Jonathan ha Cohen for whom Samuel ibn Tibbon translated (from the Arabic into Hebrew) Maimonides’ Guide of the Perplexed and Judah al Harizi translated Maimonides’ Commentary on the Mishna. He is described in the traveller’s account of the pilgrimage as “ Resh Gola ”, the head of the captivity. The text is that of the Parma MS. translated by Carmoly in his Itineraires, pages 127 to 136.\\nThe Traveller at the end of his narrative says that he carried a letter from the King of Jerusalem, i.e. John de Brienne and it is suggested that this letter recommended the emigration of Jews to Palestine and resulted in the famous pilgrimage of three hundred French and English Rabbis in the following year.\\nThe Itinerary begins as follows :—\\nThese words deserve to be written in order that we might know the places of the graves of our fore-fathers by whos'"
            ],
            "application/vnd.google.colaboratory.intrinsic+json": {
              "type": "string"
            }
          },
          "metadata": {},
          "execution_count": 11
        }
      ]
    },
    {
      "cell_type": "markdown",
      "source": [
        "## Preprocessing"
      ],
      "metadata": {
        "id": "MVOEwmKx2Wz-"
      }
    },
    {
      "cell_type": "markdown",
      "source": [
        "### Clear tabs and newlines"
      ],
      "metadata": {
        "id": "ocE3Y3A81Cvc"
      }
    },
    {
      "cell_type": "code",
      "source": [
        "view = View(so).shrink_whitespace()\n",
        "plain = view.get_plain()\n",
        "plain[:1000]"
      ],
      "metadata": {
        "colab": {
          "base_uri": "https://localhost:8080/",
          "height": 303
        },
        "id": "e8G-7rWopBfg",
        "outputId": "d738b46e-65e5-46f6-adac-5ef3f3f43a81"
      },
      "execution_count": 12,
      "outputs": [
        {
          "output_type": "stream",
          "name": "stderr",
          "text": [
            "create view: 100%|██████████| 223/223 [00:00<00:00, 469.65it/s]\n",
            "shrink whitespace: 100%|██████████| 13303/13303 [00:01<00:00, 8267.37it/s]\n"
          ]
        },
        {
          "output_type": "execute_result",
          "data": {
            "text/plain": [
              "' ITINERARY OF RABBI SAMUEL BEN SAMSON IN 1210\\nR. Samuel ben Samson made a pilgrimage to Palestine in 1210 in company of the distinguished R. Jonathan ha Cohen for whom Samuel ibn Tibbon translated (from the Arabic into Hebrew) Maimonides’ Guide of the Perplexed and Judah al Harizi translated Maimonides’ Commentary on the Mishna. He is described in the traveller’s account of the pilgrimage as “ Resh Gola ”, the head of the captivity. The text is that of the Parma MS. translated by Carmoly in his Itineraires, pages 127 to 136.\\nThe Traveller at the end of his narrative says that he carried a letter from the King of Jerusalem, i.e. John de Brienne and it is suggested that this letter recommended the emigration of Jews to Palestine and resulted in the famous pilgrimage of three hundred French and English Rabbis in the following year.\\nThe Itinerary begins as follows :—\\nThese words deserve to be written in order that we might know the places of the graves of our fore-fathers by whose merit th'"
            ],
            "application/vnd.google.colaboratory.intrinsic+json": {
              "type": "string"
            }
          },
          "metadata": {},
          "execution_count": 12
        }
      ]
    },
    {
      "cell_type": "markdown",
      "source": [
        "## NER"
      ],
      "metadata": {
        "id": "BAYbfftc2gIe"
      }
    },
    {
      "cell_type": "markdown",
      "source": [
        "### Choose language model"
      ],
      "metadata": {
        "id": "0rwNEic91WVX"
      }
    },
    {
      "cell_type": "code",
      "source": [
        "nlp = spacy.load(ner_dict[lang])"
      ],
      "metadata": {
        "id": "yAIyfGv3pWA_"
      },
      "execution_count": 13,
      "outputs": []
    },
    {
      "cell_type": "markdown",
      "source": [
        "### Process text for NER"
      ],
      "metadata": {
        "id": "VOCqYxOx1b_6"
      }
    },
    {
      "cell_type": "code",
      "source": [
        "doc = nlp(plain)"
      ],
      "metadata": {
        "id": "YHE3wJuYpWDk"
      },
      "execution_count": 14,
      "outputs": []
    },
    {
      "cell_type": "code",
      "source": [
        "doc_results = {'entity_name': [entity.text for entity in doc.ents],\n",
        "               'entity_label': [entity.label_ for entity in doc.ents]}\n",
        "ner_df = pd.DataFrame(doc_results).set_index('entity_name')\n",
        "\n",
        "ner_df"
      ],
      "metadata": {
        "id": "uGv2q1mICun3",
        "colab": {
          "base_uri": "https://localhost:8080/",
          "height": 455
        },
        "outputId": "951d31c8-4a12-4d47-e93a-54bd518a4568"
      },
      "execution_count": 15,
      "outputs": [
        {
          "output_type": "execute_result",
          "data": {
            "text/plain": [
              "                        entity_label\n",
              "entity_name                         \n",
              "RABBI SAMUEL BEN SAMSON       PERSON\n",
              "1210                            DATE\n",
              "Samuel ben Samson             PERSON\n",
              "Palestine                        GPE\n",
              "1210                            DATE\n",
              "...                              ...\n",
              "Asher                         PERSON\n",
              "Jerusalem                        GPE\n",
              "Galilee                          GPE\n",
              "the year 970                    DATE\n",
              "1210                            DATE\n",
              "\n",
              "[244 rows x 1 columns]"
            ],
            "text/html": [
              "\n",
              "  <div id=\"df-d789afc6-05a7-4b19-978b-a73179875588\" class=\"colab-df-container\">\n",
              "    <div>\n",
              "<style scoped>\n",
              "    .dataframe tbody tr th:only-of-type {\n",
              "        vertical-align: middle;\n",
              "    }\n",
              "\n",
              "    .dataframe tbody tr th {\n",
              "        vertical-align: top;\n",
              "    }\n",
              "\n",
              "    .dataframe thead th {\n",
              "        text-align: right;\n",
              "    }\n",
              "</style>\n",
              "<table border=\"1\" class=\"dataframe\">\n",
              "  <thead>\n",
              "    <tr style=\"text-align: right;\">\n",
              "      <th></th>\n",
              "      <th>entity_label</th>\n",
              "    </tr>\n",
              "    <tr>\n",
              "      <th>entity_name</th>\n",
              "      <th></th>\n",
              "    </tr>\n",
              "  </thead>\n",
              "  <tbody>\n",
              "    <tr>\n",
              "      <th>RABBI SAMUEL BEN SAMSON</th>\n",
              "      <td>PERSON</td>\n",
              "    </tr>\n",
              "    <tr>\n",
              "      <th>1210</th>\n",
              "      <td>DATE</td>\n",
              "    </tr>\n",
              "    <tr>\n",
              "      <th>Samuel ben Samson</th>\n",
              "      <td>PERSON</td>\n",
              "    </tr>\n",
              "    <tr>\n",
              "      <th>Palestine</th>\n",
              "      <td>GPE</td>\n",
              "    </tr>\n",
              "    <tr>\n",
              "      <th>1210</th>\n",
              "      <td>DATE</td>\n",
              "    </tr>\n",
              "    <tr>\n",
              "      <th>...</th>\n",
              "      <td>...</td>\n",
              "    </tr>\n",
              "    <tr>\n",
              "      <th>Asher</th>\n",
              "      <td>PERSON</td>\n",
              "    </tr>\n",
              "    <tr>\n",
              "      <th>Jerusalem</th>\n",
              "      <td>GPE</td>\n",
              "    </tr>\n",
              "    <tr>\n",
              "      <th>Galilee</th>\n",
              "      <td>GPE</td>\n",
              "    </tr>\n",
              "    <tr>\n",
              "      <th>the year 970</th>\n",
              "      <td>DATE</td>\n",
              "    </tr>\n",
              "    <tr>\n",
              "      <th>1210</th>\n",
              "      <td>DATE</td>\n",
              "    </tr>\n",
              "  </tbody>\n",
              "</table>\n",
              "<p>244 rows × 1 columns</p>\n",
              "</div>\n",
              "    <div class=\"colab-df-buttons\">\n",
              "\n",
              "  <div class=\"colab-df-container\">\n",
              "    <button class=\"colab-df-convert\" onclick=\"convertToInteractive('df-d789afc6-05a7-4b19-978b-a73179875588')\"\n",
              "            title=\"Convert this dataframe to an interactive table.\"\n",
              "            style=\"display:none;\">\n",
              "\n",
              "  <svg xmlns=\"http://www.w3.org/2000/svg\" height=\"24px\" viewBox=\"0 -960 960 960\">\n",
              "    <path d=\"M120-120v-720h720v720H120Zm60-500h600v-160H180v160Zm220 220h160v-160H400v160Zm0 220h160v-160H400v160ZM180-400h160v-160H180v160Zm440 0h160v-160H620v160ZM180-180h160v-160H180v160Zm440 0h160v-160H620v160Z\"/>\n",
              "  </svg>\n",
              "    </button>\n",
              "\n",
              "  <style>\n",
              "    .colab-df-container {\n",
              "      display:flex;\n",
              "      gap: 12px;\n",
              "    }\n",
              "\n",
              "    .colab-df-convert {\n",
              "      background-color: #E8F0FE;\n",
              "      border: none;\n",
              "      border-radius: 50%;\n",
              "      cursor: pointer;\n",
              "      display: none;\n",
              "      fill: #1967D2;\n",
              "      height: 32px;\n",
              "      padding: 0 0 0 0;\n",
              "      width: 32px;\n",
              "    }\n",
              "\n",
              "    .colab-df-convert:hover {\n",
              "      background-color: #E2EBFA;\n",
              "      box-shadow: 0px 1px 2px rgba(60, 64, 67, 0.3), 0px 1px 3px 1px rgba(60, 64, 67, 0.15);\n",
              "      fill: #174EA6;\n",
              "    }\n",
              "\n",
              "    .colab-df-buttons div {\n",
              "      margin-bottom: 4px;\n",
              "    }\n",
              "\n",
              "    [theme=dark] .colab-df-convert {\n",
              "      background-color: #3B4455;\n",
              "      fill: #D2E3FC;\n",
              "    }\n",
              "\n",
              "    [theme=dark] .colab-df-convert:hover {\n",
              "      background-color: #434B5C;\n",
              "      box-shadow: 0px 1px 3px 1px rgba(0, 0, 0, 0.15);\n",
              "      filter: drop-shadow(0px 1px 2px rgba(0, 0, 0, 0.3));\n",
              "      fill: #FFFFFF;\n",
              "    }\n",
              "  </style>\n",
              "\n",
              "    <script>\n",
              "      const buttonEl =\n",
              "        document.querySelector('#df-d789afc6-05a7-4b19-978b-a73179875588 button.colab-df-convert');\n",
              "      buttonEl.style.display =\n",
              "        google.colab.kernel.accessAllowed ? 'block' : 'none';\n",
              "\n",
              "      async function convertToInteractive(key) {\n",
              "        const element = document.querySelector('#df-d789afc6-05a7-4b19-978b-a73179875588');\n",
              "        const dataTable =\n",
              "          await google.colab.kernel.invokeFunction('convertToInteractive',\n",
              "                                                    [key], {});\n",
              "        if (!dataTable) return;\n",
              "\n",
              "        const docLinkHtml = 'Like what you see? Visit the ' +\n",
              "          '<a target=\"_blank\" href=https://colab.research.google.com/notebooks/data_table.ipynb>data table notebook</a>'\n",
              "          + ' to learn more about interactive tables.';\n",
              "        element.innerHTML = '';\n",
              "        dataTable['output_type'] = 'display_data';\n",
              "        await google.colab.output.renderOutput(dataTable, element);\n",
              "        const docLink = document.createElement('div');\n",
              "        docLink.innerHTML = docLinkHtml;\n",
              "        element.appendChild(docLink);\n",
              "      }\n",
              "    </script>\n",
              "  </div>\n",
              "\n",
              "\n",
              "<div id=\"df-50e83343-457d-4861-a4dc-b7810d7a13a0\">\n",
              "  <button class=\"colab-df-quickchart\" onclick=\"quickchart('df-50e83343-457d-4861-a4dc-b7810d7a13a0')\"\n",
              "            title=\"Suggest charts\"\n",
              "            style=\"display:none;\">\n",
              "\n",
              "<svg xmlns=\"http://www.w3.org/2000/svg\" height=\"24px\"viewBox=\"0 0 24 24\"\n",
              "     width=\"24px\">\n",
              "    <g>\n",
              "        <path d=\"M19 3H5c-1.1 0-2 .9-2 2v14c0 1.1.9 2 2 2h14c1.1 0 2-.9 2-2V5c0-1.1-.9-2-2-2zM9 17H7v-7h2v7zm4 0h-2V7h2v10zm4 0h-2v-4h2v4z\"/>\n",
              "    </g>\n",
              "</svg>\n",
              "  </button>\n",
              "\n",
              "<style>\n",
              "  .colab-df-quickchart {\n",
              "      --bg-color: #E8F0FE;\n",
              "      --fill-color: #1967D2;\n",
              "      --hover-bg-color: #E2EBFA;\n",
              "      --hover-fill-color: #174EA6;\n",
              "      --disabled-fill-color: #AAA;\n",
              "      --disabled-bg-color: #DDD;\n",
              "  }\n",
              "\n",
              "  [theme=dark] .colab-df-quickchart {\n",
              "      --bg-color: #3B4455;\n",
              "      --fill-color: #D2E3FC;\n",
              "      --hover-bg-color: #434B5C;\n",
              "      --hover-fill-color: #FFFFFF;\n",
              "      --disabled-bg-color: #3B4455;\n",
              "      --disabled-fill-color: #666;\n",
              "  }\n",
              "\n",
              "  .colab-df-quickchart {\n",
              "    background-color: var(--bg-color);\n",
              "    border: none;\n",
              "    border-radius: 50%;\n",
              "    cursor: pointer;\n",
              "    display: none;\n",
              "    fill: var(--fill-color);\n",
              "    height: 32px;\n",
              "    padding: 0;\n",
              "    width: 32px;\n",
              "  }\n",
              "\n",
              "  .colab-df-quickchart:hover {\n",
              "    background-color: var(--hover-bg-color);\n",
              "    box-shadow: 0 1px 2px rgba(60, 64, 67, 0.3), 0 1px 3px 1px rgba(60, 64, 67, 0.15);\n",
              "    fill: var(--button-hover-fill-color);\n",
              "  }\n",
              "\n",
              "  .colab-df-quickchart-complete:disabled,\n",
              "  .colab-df-quickchart-complete:disabled:hover {\n",
              "    background-color: var(--disabled-bg-color);\n",
              "    fill: var(--disabled-fill-color);\n",
              "    box-shadow: none;\n",
              "  }\n",
              "\n",
              "  .colab-df-spinner {\n",
              "    border: 2px solid var(--fill-color);\n",
              "    border-color: transparent;\n",
              "    border-bottom-color: var(--fill-color);\n",
              "    animation:\n",
              "      spin 1s steps(1) infinite;\n",
              "  }\n",
              "\n",
              "  @keyframes spin {\n",
              "    0% {\n",
              "      border-color: transparent;\n",
              "      border-bottom-color: var(--fill-color);\n",
              "      border-left-color: var(--fill-color);\n",
              "    }\n",
              "    20% {\n",
              "      border-color: transparent;\n",
              "      border-left-color: var(--fill-color);\n",
              "      border-top-color: var(--fill-color);\n",
              "    }\n",
              "    30% {\n",
              "      border-color: transparent;\n",
              "      border-left-color: var(--fill-color);\n",
              "      border-top-color: var(--fill-color);\n",
              "      border-right-color: var(--fill-color);\n",
              "    }\n",
              "    40% {\n",
              "      border-color: transparent;\n",
              "      border-right-color: var(--fill-color);\n",
              "      border-top-color: var(--fill-color);\n",
              "    }\n",
              "    60% {\n",
              "      border-color: transparent;\n",
              "      border-right-color: var(--fill-color);\n",
              "    }\n",
              "    80% {\n",
              "      border-color: transparent;\n",
              "      border-right-color: var(--fill-color);\n",
              "      border-bottom-color: var(--fill-color);\n",
              "    }\n",
              "    90% {\n",
              "      border-color: transparent;\n",
              "      border-bottom-color: var(--fill-color);\n",
              "    }\n",
              "  }\n",
              "</style>\n",
              "\n",
              "  <script>\n",
              "    async function quickchart(key) {\n",
              "      const quickchartButtonEl =\n",
              "        document.querySelector('#' + key + ' button');\n",
              "      quickchartButtonEl.disabled = true;  // To prevent multiple clicks.\n",
              "      quickchartButtonEl.classList.add('colab-df-spinner');\n",
              "      try {\n",
              "        const charts = await google.colab.kernel.invokeFunction(\n",
              "            'suggestCharts', [key], {});\n",
              "      } catch (error) {\n",
              "        console.error('Error during call to suggestCharts:', error);\n",
              "      }\n",
              "      quickchartButtonEl.classList.remove('colab-df-spinner');\n",
              "      quickchartButtonEl.classList.add('colab-df-quickchart-complete');\n",
              "    }\n",
              "    (() => {\n",
              "      let quickchartButtonEl =\n",
              "        document.querySelector('#df-50e83343-457d-4861-a4dc-b7810d7a13a0 button');\n",
              "      quickchartButtonEl.style.display =\n",
              "        google.colab.kernel.accessAllowed ? 'block' : 'none';\n",
              "    })();\n",
              "  </script>\n",
              "</div>\n",
              "\n",
              "  <div id=\"id_b0ef7bb7-96a1-4f41-beeb-079f493ff250\">\n",
              "    <style>\n",
              "      .colab-df-generate {\n",
              "        background-color: #E8F0FE;\n",
              "        border: none;\n",
              "        border-radius: 50%;\n",
              "        cursor: pointer;\n",
              "        display: none;\n",
              "        fill: #1967D2;\n",
              "        height: 32px;\n",
              "        padding: 0 0 0 0;\n",
              "        width: 32px;\n",
              "      }\n",
              "\n",
              "      .colab-df-generate:hover {\n",
              "        background-color: #E2EBFA;\n",
              "        box-shadow: 0px 1px 2px rgba(60, 64, 67, 0.3), 0px 1px 3px 1px rgba(60, 64, 67, 0.15);\n",
              "        fill: #174EA6;\n",
              "      }\n",
              "\n",
              "      [theme=dark] .colab-df-generate {\n",
              "        background-color: #3B4455;\n",
              "        fill: #D2E3FC;\n",
              "      }\n",
              "\n",
              "      [theme=dark] .colab-df-generate:hover {\n",
              "        background-color: #434B5C;\n",
              "        box-shadow: 0px 1px 3px 1px rgba(0, 0, 0, 0.15);\n",
              "        filter: drop-shadow(0px 1px 2px rgba(0, 0, 0, 0.3));\n",
              "        fill: #FFFFFF;\n",
              "      }\n",
              "    </style>\n",
              "    <button class=\"colab-df-generate\" onclick=\"generateWithVariable('ner_df')\"\n",
              "            title=\"Generate code using this dataframe.\"\n",
              "            style=\"display:none;\">\n",
              "\n",
              "  <svg xmlns=\"http://www.w3.org/2000/svg\" height=\"24px\"viewBox=\"0 0 24 24\"\n",
              "       width=\"24px\">\n",
              "    <path d=\"M7,19H8.4L18.45,9,17,7.55,7,17.6ZM5,21V16.75L18.45,3.32a2,2,0,0,1,2.83,0l1.4,1.43a1.91,1.91,0,0,1,.58,1.4,1.91,1.91,0,0,1-.58,1.4L9.25,21ZM18.45,9,17,7.55Zm-12,3A5.31,5.31,0,0,0,4.9,8.1,5.31,5.31,0,0,0,1,6.5,5.31,5.31,0,0,0,4.9,4.9,5.31,5.31,0,0,0,6.5,1,5.31,5.31,0,0,0,8.1,4.9,5.31,5.31,0,0,0,12,6.5,5.46,5.46,0,0,0,6.5,12Z\"/>\n",
              "  </svg>\n",
              "    </button>\n",
              "    <script>\n",
              "      (() => {\n",
              "      const buttonEl =\n",
              "        document.querySelector('#id_b0ef7bb7-96a1-4f41-beeb-079f493ff250 button.colab-df-generate');\n",
              "      buttonEl.style.display =\n",
              "        google.colab.kernel.accessAllowed ? 'block' : 'none';\n",
              "\n",
              "      buttonEl.onclick = () => {\n",
              "        google.colab.notebook.generateWithVariable('ner_df');\n",
              "      }\n",
              "      })();\n",
              "    </script>\n",
              "  </div>\n",
              "\n",
              "    </div>\n",
              "  </div>\n"
            ],
            "application/vnd.google.colaboratory.intrinsic+json": {
              "type": "dataframe",
              "variable_name": "ner_df",
              "summary": "{\n  \"name\": \"ner_df\",\n  \"rows\": 244,\n  \"fields\": [\n    {\n      \"column\": \"entity_name\",\n      \"properties\": {\n        \"dtype\": \"string\",\n        \"num_unique_values\": 175,\n        \"samples\": [\n          \"Obadiah the Prophet\",\n          \"Sennacherib\",\n          \"Lud\"\n        ],\n        \"semantic_type\": \"\",\n        \"description\": \"\"\n      }\n    },\n    {\n      \"column\": \"entity_label\",\n      \"properties\": {\n        \"dtype\": \"category\",\n        \"num_unique_values\": 13,\n        \"samples\": [\n          \"QUANTITY\",\n          \"ORG\",\n          \"PERSON\"\n        ],\n        \"semantic_type\": \"\",\n        \"description\": \"\"\n      }\n    }\n  ]\n}"
            }
          },
          "metadata": {},
          "execution_count": 15
        }
      ]
    },
    {
      "cell_type": "markdown",
      "source": [
        "## Annotation"
      ],
      "metadata": {
        "id": "Qc4JYkPi2kPd"
      }
    },
    {
      "cell_type": "markdown",
      "source": [
        "### NER Inline annotation\n",
        "#### ISSUE with `add_inline()`:\n",
        "Error: `ValueError: no unique context found`\\\n",
        "This error occurs when we are trying to add inline tags. The reason for the error is unclear.\n",
        "\n",
        "Current workaround is to sorround `add_inline` with a `try/except` block."
      ],
      "metadata": {
        "id": "c4wxohhg1jYp"
      }
    },
    {
      "cell_type": "code",
      "source": [
        "for i, ent in enumerate(doc.ents):\n",
        "    start_ind = view.get_table_pos(ent.start_char)\n",
        "    end_ind = view.get_table_pos(ent.end_char)\n",
        "    label = ent.label_\n",
        "\n",
        "    print(f'{i} {start_ind=}\\t{end_ind=}\\t{label=}')\n",
        "\n",
        "    if label not in tags_dict.keys():\n",
        "        print(label, '- not in dictionary -> IGNORED')\n",
        "        continue\n",
        "    else:\n",
        "        try:\n",
        "            so.add_inline(\n",
        "                begin=start_ind,\n",
        "                end=end_ind,\n",
        "                tag=tags_dict[label]['tag'],\n",
        "                depth=None,\n",
        "                attrib=tags_dict[label]['attr']\n",
        "            )\n",
        "        except Exception as e:\n",
        "            print(e)"
      ],
      "metadata": {
        "colab": {
          "base_uri": "https://localhost:8080/"
        },
        "id": "oMoHIGCxKLDs",
        "outputId": "f818486b-9b3b-444a-dad0-b1b0651ad33e"
      },
      "execution_count": 16,
      "outputs": [
        {
          "output_type": "stream",
          "name": "stdout",
          "text": [
            "0 start_ind=24\tend_ind=47\tlabel='PERSON'\n",
            "1 start_ind=51\tend_ind=55\tlabel='DATE'\n",
            "2 start_ind=59\tend_ind=76\tlabel='PERSON'\n",
            "3 start_ind=98\tend_ind=107\tlabel='GPE'\n",
            "4 start_ind=111\tend_ind=115\tlabel='DATE'\n",
            "5 start_ind=148\tend_ind=168\tlabel='PERSON'\n",
            "6 start_ind=178\tend_ind=195\tlabel='PERSON'\n",
            "7 start_ind=217\tend_ind=223\tlabel='LANGUAGE'\n",
            "LANGUAGE - not in dictionary -> IGNORED\n",
            "8 start_ind=229\tend_ind=235\tlabel='LANGUAGE'\n",
            "LANGUAGE - not in dictionary -> IGNORED\n",
            "9 start_ind=237\tend_ind=271\tlabel='WORK_OF_ART'\n",
            "WORK_OF_ART - not in dictionary -> IGNORED\n",
            "10 start_ind=276\tend_ind=291\tlabel='PERSON'\n",
            "11 start_ind=303\tend_ind=313\tlabel='PERSON'\n",
            "12 start_ind=315\tend_ind=339\tlabel='WORK_OF_ART'\n",
            "WORK_OF_ART - not in dictionary -> IGNORED\n",
            "13 start_ind=407\tend_ind=416\tlabel='PERSON'\n",
            "14 start_ind=495\tend_ind=502\tlabel='PERSON'\n",
            "15 start_ind=510\tend_ind=521\tlabel='WORK_OF_ART'\n",
            "WORK_OF_ART - not in dictionary -> IGNORED\n",
            "16 start_ind=529\tend_ind=532\tlabel='CARDINAL'\n",
            "CARDINAL - not in dictionary -> IGNORED\n",
            "17 start_ind=536\tend_ind=539\tlabel='CARDINAL'\n",
            "CARDINAL - not in dictionary -> IGNORED\n",
            "18 start_ind=630\tend_ind=639\tlabel='GPE'\n",
            "19 start_ind=646\tend_ind=661\tlabel='PERSON'\n",
            "20 start_ind=729\tend_ind=733\tlabel='NORP'\n",
            "NORP - not in dictionary -> IGNORED\n",
            "21 start_ind=737\tend_ind=746\tlabel='GPE'\n",
            "22 start_ind=788\tend_ind=801\tlabel='CARDINAL'\n",
            "CARDINAL - not in dictionary -> IGNORED\n",
            "23 start_ind=802\tend_ind=808\tlabel='NORP'\n",
            "NORP - not in dictionary -> IGNORED\n",
            "24 start_ind=813\tend_ind=820\tlabel='NORP'\n",
            "NORP - not in dictionary -> IGNORED\n",
            "25 start_ind=821\tend_ind=827\tlabel='NORP'\n",
            "NORP - not in dictionary -> IGNORED\n",
            "26 start_ind=831\tend_ind=849\tlabel='DATE'\n",
            "27 start_ind=855\tend_ind=864\tlabel='WORK_OF_ART'\n",
            "WORK_OF_ART - not in dictionary -> IGNORED\n",
            "28 start_ind=1100\tend_ind=1113\tlabel='LOC'\n",
            "29 start_ind=1125\tend_ind=1145\tlabel='PERSON'\n",
            "30 start_ind=1150\tend_ind=1155\tlabel='GPE'\n",
            "31 start_ind=1169\tend_ind=1188\tlabel='PERSON'\n",
            "32 start_ind=1228\tend_ind=1234\tlabel='GPE'\n",
            "33 start_ind=1289\tend_ind=1298\tlabel='GPE'\n",
            "34 start_ind=1312\tend_ind=1320\tlabel='DATE'\n",
            "35 start_ind=1321\tend_ind=1325\tlabel='DATE'\n",
            "36 start_ind=1330\tend_ind=1334\tlabel='DATE'\n",
            "37 start_ind=1353\tend_ind=1362\tlabel='GPE'\n",
            "38 start_ind=1537\tend_ind=1545\tlabel='PERSON'\n",
            "39 start_ind=1567\tend_ind=1572\tlabel='PERSON'\n",
            "40 start_ind=1629\tend_ind=1647\tlabel='FAC'\n",
            "41 start_ind=1726\tend_ind=1732\tlabel='FAC'\n",
            "42 start_ind=1762\tend_ind=1778\tlabel='FAC'\n",
            "43 start_ind=1833\tend_ind=1838\tlabel='LOC'\n",
            "44 start_ind=2006\tend_ind=2012\tlabel='FAC'\n",
            "45 start_ind=2082\tend_ind=2086\tlabel='LOC'\n",
            "46 start_ind=2141\tend_ind=2153\tlabel='LOC'\n",
            "47 start_ind=2258\tend_ind=2261\tlabel='CARDINAL'\n",
            "CARDINAL - not in dictionary -> IGNORED\n",
            "48 start_ind=2300\tend_ind=2315\tlabel='DATE'\n",
            "49 start_ind=2327\tend_ind=2347\tlabel='WORK_OF_ART'\n",
            "WORK_OF_ART - not in dictionary -> IGNORED\n",
            "50 start_ind=2545\tend_ind=2548\tlabel='CARDINAL'\n",
            "CARDINAL - not in dictionary -> IGNORED\n",
            "51 start_ind=2556\tend_ind=2559\tlabel='CARDINAL'\n",
            "CARDINAL - not in dictionary -> IGNORED\n",
            "52 start_ind=2652\tend_ind=2663\tlabel='NORP'\n",
            "NORP - not in dictionary -> IGNORED\n",
            "53 start_ind=2754\tend_ind=2757\tlabel='WORK_OF_ART'\n",
            "WORK_OF_ART - not in dictionary -> IGNORED\n",
            "54 start_ind=2824\tend_ind=2830\tlabel='GPE'\n",
            "55 start_ind=2850\tend_ind=2856\tlabel='GPE'\n",
            "56 start_ind=2872\tend_ind=2878\tlabel='GPE'\n",
            "57 start_ind=2918\tend_ind=2924\tlabel='PERSON'\n",
            "58 start_ind=2981\tend_ind=2987\tlabel='PERSON'\n",
            "59 start_ind=3018\tend_ind=3024\tlabel='FAC'\n",
            "60 start_ind=3063\tend_ind=3070\tlabel='PERSON'\n",
            "61 start_ind=3092\tend_ind=3103\tlabel='NORP'\n",
            "NORP - not in dictionary -> IGNORED\n",
            "62 start_ind=3173\tend_ind=3178\tlabel='CARDINAL'\n",
            "CARDINAL - not in dictionary -> IGNORED\n",
            "63 start_ind=3246\tend_ind=3249\tlabel='PERSON'\n",
            "64 start_ind=3315\tend_ind=3332\tlabel='FAC'\n",
            "65 start_ind=3361\tend_ind=3368\tlabel='PERSON'\n",
            "66 start_ind=3437\tend_ind=3442\tlabel='CARDINAL'\n",
            "CARDINAL - not in dictionary -> IGNORED\n",
            "67 start_ind=3506\tend_ind=3511\tlabel='PERSON'\n",
            "68 start_ind=3533\tend_ind=3539\tlabel='GPE'\n",
            "69 start_ind=3565\tend_ind=3571\tlabel='GPE'\n",
            "70 start_ind=3589\tend_ind=3598\tlabel='ORG'\n",
            "71 start_ind=3673\tend_ind=3681\tlabel='PERSON'\n",
            "72 start_ind=3798\tend_ind=3805\tlabel='PERSON'\n",
            "73 start_ind=3813\tend_ind=3819\tlabel='PERSON'\n",
            "74 start_ind=4021\tend_ind=4030\tlabel='DATE'\n",
            "75 start_ind=4130\tend_ind=4153\tlabel='TIME'\n",
            "TIME - not in dictionary -> IGNORED\n",
            "76 start_ind=4214\tend_ind=4225\tlabel='CARDINAL'\n",
            "CARDINAL - not in dictionary -> IGNORED\n",
            "77 start_ind=4365\tend_ind=4374\tlabel='FAC'\n",
            "78 start_ind=4390\tend_ind=4395\tlabel='CARDINAL'\n",
            "CARDINAL - not in dictionary -> IGNORED\n",
            "79 start_ind=4432\tend_ind=4453\tlabel='DATE'\n",
            "80 start_ind=4547\tend_ind=4556\tlabel='GPE'\n",
            "81 start_ind=4583\tend_ind=4592\tlabel='GPE'\n",
            "82 start_ind=4594\tend_ind=4598\tlabel='GPE'\n",
            "83 start_ind=4637\tend_ind=4643\tlabel='PERSON'\n",
            "84 start_ind=4678\tend_ind=4685\tlabel='GPE'\n",
            "85 start_ind=4697\tend_ind=4706\tlabel='TIME'\n",
            "TIME - not in dictionary -> IGNORED\n",
            "86 start_ind=4737\tend_ind=4760\tlabel='TIME'\n",
            "TIME - not in dictionary -> IGNORED\n",
            "87 start_ind=4784\tend_ind=4797\tlabel='TIME'\n",
            "TIME - not in dictionary -> IGNORED\n",
            "88 start_ind=4801\tend_ind=4807\tlabel='GPE'\n",
            "89 start_ind=4820\tend_ind=4826\tlabel='GPE'\n",
            "90 start_ind=4831\tend_ind=4833\tlabel='GPE'\n",
            "91 start_ind=4856\tend_ind=4863\tlabel='PERSON'\n",
            "92 start_ind=4888\tend_ind=4894\tlabel='GPE'\n",
            "93 start_ind=4909\tend_ind=4915\tlabel='GPE'\n",
            "94 start_ind=4947\tend_ind=4962\tlabel='PERSON'\n",
            "95 start_ind=4997\tend_ind=5004\tlabel='DATE'\n",
            "96 start_ind=5028\tend_ind=5036\tlabel='GPE'\n",
            "97 start_ind=5047\tend_ind=5055\tlabel='GPE'\n",
            "98 start_ind=5062\tend_ind=5070\tlabel='GPE'\n",
            "99 start_ind=5108\tend_ind=5112\tlabel='PERSON'\n",
            "100 start_ind=5179\tend_ind=5196\tlabel='PERSON'\n",
            "101 start_ind=5386\tend_ind=5404\tlabel='PERSON'\n",
            "102 start_ind=5433\tend_ind=5439\tlabel='PERSON'\n",
            "103 start_ind=5464\tend_ind=5478\tlabel='GPE'\n",
            "104 start_ind=5503\tend_ind=5523\tlabel='QUANTITY'\n",
            "QUANTITY - not in dictionary -> IGNORED\n",
            "105 start_ind=5597\tend_ind=5602\tlabel='PERSON'\n",
            "106 start_ind=5642\tend_ind=5647\tlabel='PERSON'\n",
            "107 start_ind=5794\tend_ind=5798\tlabel='PERSON'\n",
            "108 start_ind=5840\tend_ind=5846\tlabel='GPE'\n",
            "109 start_ind=5883\tend_ind=5889\tlabel='PERSON'\n",
            "110 start_ind=5895\tend_ind=5903\tlabel='NORP'\n",
            "NORP - not in dictionary -> IGNORED\n",
            "111 start_ind=5962\tend_ind=5968\tlabel='GPE'\n",
            "112 start_ind=6008\tend_ind=6014\tlabel='PERSON'\n",
            "113 start_ind=6172\tend_ind=6176\tlabel='PERSON'\n",
            "114 start_ind=6305\tend_ind=6311\tlabel='GPE'\n",
            "115 start_ind=6347\tend_ind=6350\tlabel='CARDINAL'\n",
            "CARDINAL - not in dictionary -> IGNORED\n",
            "116 start_ind=6385\tend_ind=6390\tlabel='PERSON'\n",
            "117 start_ind=6409\tend_ind=6415\tlabel='PERSON'\n",
            "118 start_ind=6439\tend_ind=6448\tlabel='PERSON'\n",
            "119 start_ind=6454\tend_ind=6461\tlabel='PERSON'\n",
            "120 start_ind=6478\tend_ind=6486\tlabel='GPE'\n",
            "121 start_ind=6518\tend_ind=6530\tlabel='DATE'\n",
            "122 start_ind=6553\tend_ind=6561\tlabel='GPE'\n",
            "123 start_ind=6576\tend_ind=6587\tlabel='GPE'\n",
            "124 start_ind=6636\tend_ind=6644\tlabel='PERSON'\n",
            "125 start_ind=6648\tend_ind=6659\tlabel='GPE'\n",
            "126 start_ind=6704\tend_ind=6707\tlabel='GPE'\n",
            "127 start_ind=6742\tend_ind=6759\tlabel='PERSON'\n",
            "128 start_ind=6778\tend_ind=6792\tlabel='GPE'\n",
            "129 start_ind=6849\tend_ind=6856\tlabel='PERSON'\n",
            "130 start_ind=6938\tend_ind=6943\tlabel='GPE'\n",
            "131 start_ind=6983\tend_ind=7003\tlabel='PERSON'\n",
            "132 start_ind=7024\tend_ind=7031\tlabel='CARDINAL'\n",
            "CARDINAL - not in dictionary -> IGNORED\n",
            "133 start_ind=7134\tend_ind=7137\tlabel='CARDINAL'\n",
            "CARDINAL - not in dictionary -> IGNORED\n",
            "134 start_ind=7138\tend_ind=7149\tlabel='NORP'\n",
            "NORP - not in dictionary -> IGNORED\n",
            "135 start_ind=7279\tend_ind=7288\tlabel='ORG'\n",
            "136 start_ind=7292\tend_ind=7304\tlabel='PERSON'\n",
            "137 start_ind=7342\tend_ind=7381\tlabel='PERSON'\n",
            "138 start_ind=7516\tend_ind=7522\tlabel='PERSON'\n",
            "139 start_ind=7531\tend_ind=7537\tlabel='PERSON'\n",
            "140 start_ind=7564\tend_ind=7586\tlabel='CARDINAL'\n",
            "CARDINAL - not in dictionary -> IGNORED\n",
            "141 start_ind=7666\tend_ind=7672\tlabel='PERSON'\n",
            "142 start_ind=7681\tend_ind=7687\tlabel='PERSON'\n",
            "143 start_ind=7751\tend_ind=7762\tlabel='GPE'\n",
            "144 start_ind=7800\tend_ind=7808\tlabel='PERSON'\n",
            "145 start_ind=7817\tend_ind=7823\tlabel='PERSON'\n",
            "146 start_ind=7861\tend_ind=7872\tlabel='NORP'\n",
            "NORP - not in dictionary -> IGNORED\n",
            "147 start_ind=7993\tend_ind=8004\tlabel='GPE'\n",
            "148 start_ind=8016\tend_ind=8029\tlabel='GPE'\n",
            "149 start_ind=8073\tend_ind=8077\tlabel='PERSON'\n",
            "150 start_ind=8104\tend_ind=8109\tlabel='GPE'\n",
            "151 start_ind=8126\tend_ind=8137\tlabel='DATE'\n",
            "152 start_ind=8165\tend_ind=8171\tlabel='NORP'\n",
            "NORP - not in dictionary -> IGNORED\n",
            "153 start_ind=8207\tend_ind=8221\tlabel='CARDINAL'\n",
            "CARDINAL - not in dictionary -> IGNORED\n",
            "154 start_ind=8246\tend_ind=8249\tlabel='CARDINAL'\n",
            "CARDINAL - not in dictionary -> IGNORED\n",
            "155 start_ind=8256\tend_ind=8261\tlabel='GPE'\n",
            "156 start_ind=8273\tend_ind=8283\tlabel='GPE'\n",
            "157 start_ind=8331\tend_ind=8336\tlabel='GPE'\n",
            "158 start_ind=8341\tend_ind=8346\tlabel='GPE'\n",
            "159 start_ind=8379\tend_ind=8383\tlabel='PERSON'\n",
            "160 start_ind=8392\tend_ind=8397\tlabel='PERSON'\n",
            "161 start_ind=8444\tend_ind=8449\tlabel='GPE'\n",
            "162 start_ind=8494\tend_ind=8499\tlabel='GPE'\n",
            "163 start_ind=8543\tend_ind=8550\tlabel='PERSON'\n",
            "164 start_ind=8559\tend_ind=8564\tlabel='PERSON'\n",
            "165 start_ind=8569\tend_ind=8574\tlabel='GPE'\n",
            "166 start_ind=8609\tend_ind=8626\tlabel='PERSON'\n",
            "167 start_ind=8635\tend_ind=8639\tlabel='CARDINAL'\n",
            "CARDINAL - not in dictionary -> IGNORED\n",
            "168 start_ind=8693\tend_ind=8700\tlabel='PERSON'\n",
            "169 start_ind=8711\tend_ind=8714\tlabel='CARDINAL'\n",
            "CARDINAL - not in dictionary -> IGNORED\n",
            "170 start_ind=8828\tend_ind=8834\tlabel='PERSON'\n",
            "171 start_ind=8842\tend_ind=8850\tlabel='PERSON'\n",
            "172 start_ind=8856\tend_ind=8866\tlabel='CARDINAL'\n",
            "CARDINAL - not in dictionary -> IGNORED\n",
            "173 start_ind=9022\tend_ind=9025\tlabel='CARDINAL'\n",
            "CARDINAL - not in dictionary -> IGNORED\n",
            "174 start_ind=9077\tend_ind=9082\tlabel='ORDINAL'\n",
            "ORDINAL - not in dictionary -> IGNORED\n",
            "175 start_ind=9134\tend_ind=9140\tlabel='ORDINAL'\n",
            "ORDINAL - not in dictionary -> IGNORED\n",
            "176 start_ind=9176\tend_ind=9181\tlabel='ORDINAL'\n",
            "ORDINAL - not in dictionary -> IGNORED\n",
            "177 start_ind=9187\tend_ind=9191\tlabel='CARDINAL'\n",
            "CARDINAL - not in dictionary -> IGNORED\n",
            "178 start_ind=9218\tend_ind=9224\tlabel='ORDINAL'\n",
            "ORDINAL - not in dictionary -> IGNORED\n",
            "179 start_ind=9283\tend_ind=9286\tlabel='CARDINAL'\n",
            "CARDINAL - not in dictionary -> IGNORED\n",
            "180 start_ind=9296\tend_ind=9301\tlabel='CARDINAL'\n",
            "CARDINAL - not in dictionary -> IGNORED\n",
            "181 start_ind=9331\tend_ind=9336\tlabel='CARDINAL'\n",
            "CARDINAL - not in dictionary -> IGNORED\n",
            "182 start_ind=9380\tend_ind=9385\tlabel='CARDINAL'\n",
            "CARDINAL - not in dictionary -> IGNORED\n",
            "183 start_ind=9403\tend_ind=9406\tlabel='CARDINAL'\n",
            "CARDINAL - not in dictionary -> IGNORED\n",
            "184 start_ind=9441\tend_ind=9444\tlabel='CARDINAL'\n",
            "CARDINAL - not in dictionary -> IGNORED\n",
            "185 start_ind=9490\tend_ind=9499\tlabel='ORG'\n",
            "186 start_ind=9850\tend_ind=9855\tlabel='CARDINAL'\n",
            "CARDINAL - not in dictionary -> IGNORED\n",
            "187 start_ind=9865\tend_ind=9868\tlabel='CARDINAL'\n",
            "CARDINAL - not in dictionary -> IGNORED\n",
            "188 start_ind=9898\tend_ind=9903\tlabel='ORDINAL'\n",
            "ORDINAL - not in dictionary -> IGNORED\n",
            "189 start_ind=9932\tend_ind=9935\tlabel='CARDINAL'\n",
            "CARDINAL - not in dictionary -> IGNORED\n",
            "190 start_ind=10080\tend_ind=10095\tlabel='PERSON'\n",
            "191 start_ind=10162\tend_ind=10178\tlabel='PERSON'\n",
            "192 start_ind=10228\tend_ind=10235\tlabel='PERSON'\n",
            "193 start_ind=10333\tend_ind=10340\tlabel='PERSON'\n",
            "194 start_ind=10409\tend_ind=10421\tlabel='DATE'\n",
            "195 start_ind=10477\tend_ind=10487\tlabel='GPE'\n",
            "196 start_ind=10533\tend_ind=10541\tlabel='PERSON'\n",
            "197 start_ind=10546\tend_ind=10554\tlabel='PERSON'\n",
            "198 start_ind=10588\tend_ind=10599\tlabel='PERSON'\n",
            "199 start_ind=10607\tend_ind=10615\tlabel='PERSON'\n",
            "200 start_ind=10629\tend_ind=10640\tlabel='PERSON'\n",
            "201 start_ind=10653\tend_ind=10657\tlabel='NORP'\n",
            "NORP - not in dictionary -> IGNORED\n",
            "202 start_ind=10670\tend_ind=10683\tlabel='LOC'\n",
            "203 start_ind=10699\tend_ind=10709\tlabel='GPE'\n",
            "204 start_ind=10738\tend_ind=10743\tlabel='DATE'\n",
            "205 start_ind=10879\tend_ind=10882\tlabel='CARDINAL'\n",
            "CARDINAL - not in dictionary -> IGNORED\n",
            "206 start_ind=10930\tend_ind=10940\tlabel='GPE'\n",
            "207 start_ind=10957\tend_ind=10961\tlabel='GPE'\n",
            "208 start_ind=11022\tend_ind=11045\tlabel='PERSON'\n",
            "209 start_ind=11046\tend_ind=11049\tlabel='CARDINAL'\n",
            "CARDINAL - not in dictionary -> IGNORED\n",
            "210 start_ind=11482\tend_ind=11493\tlabel='NORP'\n",
            "NORP - not in dictionary -> IGNORED\n",
            "211 start_ind=11601\tend_ind=11608\tlabel='PERSON'\n",
            "212 start_ind=11617\tend_ind=11622\tlabel='PERSON'\n",
            "213 start_ind=11686\tend_ind=11693\tlabel='PERSON'\n",
            "214 start_ind=11702\tend_ind=11709\tlabel='PERSON'\n",
            "215 start_ind=11804\tend_ind=11809\tlabel='GPE'\n",
            "216 start_ind=11853\tend_ind=11867\tlabel='PERSON'\n",
            "217 start_ind=11923\tend_ind=11927\tlabel='PERSON'\n",
            "218 start_ind=11933\tend_ind=11941\tlabel='NORP'\n",
            "NORP - not in dictionary -> IGNORED\n",
            "219 start_ind=11970\tend_ind=11982\tlabel='GPE'\n",
            "220 start_ind=12039\tend_ind=12055\tlabel='PERSON'\n",
            "221 start_ind=12278\tend_ind=12297\tlabel='PERSON'\n",
            "222 start_ind=12336\tend_ind=12341\tlabel='PERSON'\n",
            "223 start_ind=12354\tend_ind=12361\tlabel='PERSON'\n",
            "224 start_ind=12390\tend_ind=12393\tlabel='GPE'\n",
            "225 start_ind=12424\tend_ind=12430\tlabel='LOC'\n",
            "226 start_ind=12432\tend_ind=12438\tlabel='PERSON'\n",
            "227 start_ind=12456\tend_ind=12462\tlabel='GPE'\n",
            "228 start_ind=12508\tend_ind=12512\tlabel='PERSON'\n",
            "229 start_ind=12531\tend_ind=12534\tlabel='GPE'\n",
            "230 start_ind=12554\tend_ind=12562\tlabel='GPE'\n",
            "231 start_ind=12606\tend_ind=12612\tlabel='PERSON'\n",
            "232 start_ind=12678\tend_ind=12686\tlabel='GPE'\n",
            "233 start_ind=12701\tend_ind=12708\tlabel='GPE'\n",
            "234 start_ind=12710\tend_ind=12715\tlabel='GPE'\n",
            "235 start_ind=12749\tend_ind=12753\tlabel='PERSON'\n",
            "236 start_ind=12762\tend_ind=12766\tlabel='PERSON'\n",
            "237 start_ind=12926\tend_ind=12931\tlabel='PERSON'\n",
            "238 start_ind=12945\tend_ind=12949\tlabel='PERSON'\n",
            "239 start_ind=12964\tend_ind=12969\tlabel='PERSON'\n",
            "240 start_ind=13015\tend_ind=13024\tlabel='GPE'\n",
            "241 start_ind=13034\tend_ind=13041\tlabel='GPE'\n",
            "242 start_ind=13045\tend_ind=13057\tlabel='DATE'\n",
            "243 start_ind=13061\tend_ind=13065\tlabel='DATE'\n"
          ]
        }
      ]
    },
    {
      "cell_type": "markdown",
      "source": [
        "#### Text element output"
      ],
      "metadata": {
        "id": "n1WHjVuW1uG5"
      }
    },
    {
      "cell_type": "code",
      "source": [
        "etree.tostring(so.text_el).decode(\"utf-8\")"
      ],
      "metadata": {
        "id": "T0HffcndsVRj",
        "colab": {
          "base_uri": "https://localhost:8080/",
          "height": 268
        },
        "outputId": "b295c22c-4b5f-4920-9780-1b0cc35ab0b7"
      },
      "execution_count": 17,
      "outputs": [
        {
          "output_type": "execute_result",
          "data": {
            "text/plain": [
              "'<text xmlns=\"http://www.tei-c.org/ns/1.0\">\\n          <front><ab xml:id=\"intro\">ITINERARY OF <persName>RABBI SAMUEL BEN SAMSON</persName> IN <date>1210</date>\\nR. <persName>Samuel ben Samson</persName> made a pilgrimage to <placeName type=\"gpe\">Palestine</placeName> in <date>1210</date> in company of the distinguished <persName>R. Jonathan ha Cohen</persName> for whom <persName>Samuel ibn Tibbon</persName> translated (from the Arabic into Hebrew) Maimonides&#8217; Guide of the Perplexed and <persName>Judah al Harizi</persName> translated <persName>Maimonides</persName>&#8217; Commentary on the Mishna. He is described in the traveller&#8217;s account of the pilgrimage as &#8220; <persName>Resh Gola</persName> &#8221;, the head of the captivity. The text is that of the Parma MS. translated by <persName>Carmoly</persName> in his Itineraires, pages 127 to 136.\\nThe Traveller at the end of his narrative says that he carried a letter from the King of <placeName type=\"gpe\">Jerusalem</placeName>, i.e. <persName>John de Brienne</persName> and it is suggested that this letter recommended the emigration of Jews to <placeName type=\"gpe\">Palestine</placeName> and resulted in the famous pilgrimage of three hundred French and English Rabbis in <date>the following year</date>.\\nThe Itinerary begins as follows :&#8212;</ab></front><body><ab xml:id=\"preface\"><seg xml:id=\"GN0S1\">\\nThese words deserve to be written in order that we might know the places of the graves of our fore-fathers by whose merit the world exists. This appears from what I shall relate from the mouth of a man, who was in <placeName type=\"loc\">the Holy Land</placeName> with Rabbi <persName>R. Jonathan ha Cohen</persName>, of <placeName type=\"gpe\">Lunel</placeName>. His name is <persName>R. Samuel ha Samson</persName>, who travelled with him in the land of <placeName type=\"gpe\">Goshen</placeName>, and crossed the desert with him and with him entered <placeName type=\"gpe\">Jerusalem</placeName>. This was in <date>the year</date> <date>4970</date> ( = <date>1210</date>).</seg></ab>\\n<ab xml:id=\"GN1\">I\\n<seg xml:id=\"GN1S1\">We arrived at <placeName type=\"gpe\">Jerusalem</placeName> by the western end of the city, rending our garments on beholding it, as it has been ordained we should do. It was a moment of tendered emotion, and we wept bitterly, [Rabbi <persName>Jonathan</persName>] the great prieft of <persName>Lunel</persName> and I.\\nWe entered by the [western] gate ... as far as\\n<pb n=\"103\"/>\\n <orgName type=\"theater\">the Tower of David</orgName>,</seg><seg xml:id=\"GN2S2\"> whence it is customary to proceed for prostration before the approach to the <orgName type=\"theater\">Temple</orgName>.</seg> <seg xml:id=\"GN2S3\">We fell on our faces before <orgName type=\"theater\">the Shechem Gate</orgName>, beyond which is the road which leads to the fount of <placeName type=\"loc\">Etham</placeName>, the bathing place of the priests.\\nThe gate opposite is in the western wall.</seg> <seg xml:id=\"GN2S4\">At the base of this wall there is to be observed a kind of arch placed at the base of the <orgName type=\"theater\">Temple</orgName>. It is by a subterranean passage that the priesls reach the fount of <placeName type=\"loc\">Etam</placeName>, the spot where the baths were.</seg>\\n<seg xml:id=\"GN2S5\">From there we went to <placeName type=\"loc\">Mount Olivet</placeName>, where in olden times the red heifer was burnt. We said our prayers there twice with a &#8220; minyan &#8221; (i.e. ten persons) and climbed the mountain.</seg> <seg xml:id=\"GN2S6\">On <date>the Sabbath day</date> we recited the Afternoon Prayer on the spot where the uncircumcised had time and again set up a sanctuary with idols, whose presence the place would not endure, causing them to fall down again as fast as they were set up. It was one of the ten stations visited by the divine Majesty when He came [to earth] from His dwelling-place. The Ishmaelites venerate this spot. Only the foundations remain now in existence, but the place where the Ark stood is ftill to be seen.</seg>\\n<seg xml:id=\"GN2S7\">We went on from there to the waters of <placeName type=\"gpe\">Siloam</placeName> ;</seg></ab> <ab xml:id=\"GN2\"><seg xml:id=\"GN3S1\">and then next to <placeName type=\"gpe\">Hebron</placeName>. On our way to <placeName type=\"gpe\">Hebron</placeName> we came to the sepulchre of our mother <persName>Rachel</persName>.</seg>\\n<seg xml:id=\"GN3S2\">Journeying on from that tomb we found the sepulchre of <persName>Nathan</persName> the prophet, where there is a <orgName type=\"theater\">Mosque</orgName>.</seg>\\n<seg xml:id=\"GN3S3\">From there we reached the spot where <persName>Abraham</persName> was circumcised. The Ishmaelites hold it in the highest honour. It is a rock in the form of a tomb of three hands-breadths.</seg>\\n<seg xml:id=\"GN3S4\">After this we arrived at a fine edifice which king <persName>Asa</persName> caused to be built. It is magnificent.</seg> <seg xml:id=\"GN3S5\">Thence we travelled on to <orgName type=\"theater\">the Oaks of Mamre</orgName>, and saw there\\n the well of <persName>Abraham</persName>, where his tent Stood, and the tree under which he gave food to the three angels stands opposite.</seg> <seg xml:id=\"GN3S6\">Not far away is the well of our mother <persName>Sarah</persName>. It all lies near to <placeName type=\"gpe\">Hebron</placeName>.</seg><seg xml:id=\"GN3S7\">\\nFrom here we came on to <placeName type=\"gpe\">Hebron</placeName>. The head of the <orgName>Captivity</orgName> had in his hand the sealed permit of the King, who by the mistaken law of <persName>Muhammad</persName> is the Caliph. He entered alone, and we ourselves did not dare to follow him. We betook ourselves to the dyer&#8212;Rabbi <persName>Saadiah</persName>, Rabbi <persName>Tobiah</persName>, and myself&#8212; and we said to him :\\nWe are travellers from a far country, come hither to pray in this place, and to prostrate ourselves where our fathers once trod.\\nThe man answered as :\\nStay here until <date>to-morrow</date>, then, with God&#8217;s help, you shall enter in.\\nWe stayed. And he went his way with his companions. In the middle of the night the gate-keeper came for us and we entered. We climbed down twenty-four Steps, a narrow stairway where there could be no turning either to right or to left. We saw there the site of the sacred place (an ancient <orgName type=\"theater\">Synagogue</orgName>), and remarked three monuments. The building was erected <date>six hundred years ago</date>. It is close to the cave. We prostrated ourselves and prayed for mercy ;</seg> <seg xml:id=\"GN3S8\">then we returned to <placeName type=\"gpe\">Jerusalem</placeName>.</seg></ab><ab xml:id=\"GN3\">\\n<seg xml:id=\"GN4S1\">After that we went on to <placeName type=\"gpe\">Ramathaim</placeName> (<placeName type=\"gpe\">Rama</placeName>) and saw the sepulchre of the prophet <persName>Samuel</persName> there.</seg>\\n<seg xml:id=\"GN4S2\">From there we proceeded to <placeName type=\"gpe\">Beeroth</placeName> ; we slept the night there. It is all in ruins.</seg><seg xml:id=\"GN4S3\">\\nOn the morning of the next day we took our way at an early hour to <placeName type=\"gpe\">Bethel</placeName> and between <placeName type=\"gpe\">Bethel</placeName> and <placeName type=\"gpe\">Ai</placeName> we saw the spot where <persName>Abraham</persName> erected his altar.</seg>\\n<seg xml:id=\"GN4S4\">From <placeName type=\"gpe\">Bethel</placeName> we went on to <placeName type=\"gpe\">Shiloh</placeName>. We saw there the sepulchre of <persName>Joseph the Just</persName>. We slept there and kept a joyous <date>Sabbath</date>.</seg>\\n<seg xml:id=\"GN4S5\">From there we went to <placeName type=\"gpe\">Bethsean</placeName>,</seg></ab> <ab xml:id=\"GN4\"><seg xml:id=\"GN5S1\">and from <placeName type=\"gpe\">Bethsean</placeName> on to <placeName type=\"gpe\">Tiberias</placeName>.</seg> <seg xml:id=\"GN5S2\">On the way we saw the tomb of Rabbi <persName>Meir</persName>, and just before reaching the city itself, the sepulchre of Rabbi <persName>Jochanan ben Nuri</persName>. Here a house is built. Under this house is a cave, and it was the rabbi himself who ordered the building of this house there, with his own money.\\nIn front of the cave is the tomb of Rabbi <persName>Eleazar bar Simeon</persName>, and the sepulchre of Rabbi <persName>Cahana</persName>.</seg></ab> <ab xml:id=\"GN5\"><seg xml:id=\"GN6S1\">Thence we journeyed to <placeName type=\"gpe\">Kefar Hananiah</placeName>, where we found a tomb.</seg> <seg xml:id=\"GN6S2\">Nearly two parasangs further on along the road are the sepulchres of the Tribes [i.e. sons of <persName>Jacob</persName>], and in the midft of them the tomb of <persName>Dinah</persName>, their sister. On her tomb a myrtle grows. No one dare take anything from this tree, not even a single leaf. Nearby is said to be the monument of <persName>Seth</persName>. This we saw.</seg><seg xml:id=\"GN6S3\"> From this place we came to <placeName type=\"gpe\">Arbela</placeName>, where we remarked the sepulchre of <persName>Nittai</persName>, the Arbelite, with a very beautiful monument upon it. We climbed up to <placeName type=\"gpe\">Arbela</placeName>, where flood the great synagogue which <persName>Nittai</persName> caused to be built there ; it is now, on account of our sins, in ruins. It lies in the centre of the town ; outside the town we discovered the tomb of Rabbi <persName>Zera</persName>. This sepulchre is devoid of monument, that which once flood there having fallen into ruins.</seg><seg xml:id=\"GN6S4\">\\nFrom here I went to the village of <placeName type=\"gpe\">Hittin</placeName> and there saw on the mountain side two sepulchres ; some say the tomb of <persName>Hosea</persName> [but some say, of <persName>Jethro</persName>], and the sepulchre of <persName>Zephaniah</persName>, the <persName>Prophet</persName>.</seg> <seg xml:id=\"GN6S5\">We returned to <placeName type=\"gpe\">Tiberias</placeName>. All this ground we covered in <date>a single day</date>.</seg></ab><ab xml:id=\"GN6\"><seg xml:id=\"GN7S1\">\\nOn our way back from <placeName type=\"gpe\">Tiberias</placeName> we went on to <placeName type=\"gpe\">Kefar Hanan</placeName>. In journeying there we came across the tomb of <persName>Habakkuk</persName> in <placeName type=\"gpe\">Kefar Hakuk</placeName>,</seg> <seg xml:id=\"GN7S2\">from which place we came to the village of <placeName type=\"gpe\">Lud</placeName>, where we found the tomb of Rabbi <persName>Eliezer bar Jacob</persName>.\\n<pb n=\"106\"/>\\nBefore reaching <placeName type=\"gpe\">Kefar Hananiah</placeName> itself we lighted in the fields upon the tombs of Rabbi <persName>Halafta</persName> and his son and grandson. Here we slept. </seg><seg xml:id=\"GN7S3\">From these monuments we took our way to <placeName type=\"gpe\">Safed</placeName>, where we discovered the cave of Rabbi <persName>Haninah ben Hyrcanus</persName>, in which there are sixteen recesses. We encircled them, weeping. There is a wall there for preventing the earth from falling in. Two Ishmaelites remain there continually to attend to the light and supply oil in honour of the righteous man.</seg>\\n<seg xml:id=\"GN7S4\">I\\twent alone with the head of the <orgName>Captivity</orgName> to <persName>Kefar Bar\\'am</persName>. Near the city we found the tombs of <persName>Honi ha-Me&#8217;agel [Onias the Circle Maker</persName>], and of his wife and children. These tombs have monuments. On our arrival in the city we found a synagogue, one of those which Rabbi <persName>Simeon</persName>, son of <persName>Jochai</persName>, had built, and which are as many as twenty-four in number. It is both beautiful and pleasant. Of the other synagogues of Rabbi <persName>Simeon</persName>, son of <persName>Jochai</persName>, some are destroyed, others exift still.</seg>\\n<seg xml:id=\"GN7S5\">From there we came to <placeName type=\"gpe\">Kefar Amuka</placeName>, and we found there the sepulchre of <persName>Jonathan</persName>, son of <persName>Uzziel</persName>, on which there is a great tree. The Ishmaelites bring oil to it and have a light burning there in his honour. They make their vows there, too, to his glory.</seg>\\n<seg xml:id=\"GN7S6\">On leaving <placeName type=\"gpe\">Kefar Amuka</placeName> we came to <placeName type=\"gpe\">Kefar Nebarta</placeName> [Akbara], where we found the tomb of Rabbi <persName>Meir</persName>. </seg><seg xml:id=\"GN7S7\">We returned from here to <placeName type=\"gpe\">Safed</placeName>, where we spent <date>the Sabbath</date>. In these places there are Jewish communities numbering in each case more than five times the &#8220; minyan &#8221; of ten.</seg></ab><ab xml:id=\"GN7\">\\n<seg xml:id=\"GN8S1\">From <placeName type=\"gpe\">Safed</placeName> we went to <placeName type=\"gpe\">Gush Halab</placeName>. On our way thither we came upon a city called <placeName type=\"gpe\">Kisma</placeName>. In <placeName type=\"gpe\">Kisma</placeName> we found the sepulchre of Rabbi <persName>Jose</persName>, son of <persName>Pedat</persName>, called from the name of the city, the man of <placeName type=\"gpe\">Kisma</placeName>.</seg></ab>\\n<ab xml:id=\"GN8\"><seg xml:id=\"GN9S1\">II\\nFrom there we mounted to the village of <placeName type=\"gpe\">Meron</placeName>, and we found there the sepulchre of Rabbi <persName>Eleazar</persName>, son of <persName>Hisma</persName>. At <placeName type=\"gpe\">Meron</placeName> we found also the school of Rabbi <persName>Simeon ben Jochai</persName> ; it is four square, and in it he lies buried, and with him Rabbi <persName>Eleazar</persName>, his son. Two trees rise above his tomb ; it is a very beautiful spot. At the foot of the moun-tain we found the sepulchres of <persName>Hillel</persName> and of <persName>Shamma\\'1</persName>, and thirty-six other tombs as well. Over these tombs is a cupola of a sort of white marble, the interior of which is adorned with reliefs representing branches of trees. Six wells are there. Here we prayed. We found that the first well on the right hand side was full of water, the second empty. On the left-hand side was a third well half-filled with water and the fourth completely full. In the hall in the centre of the hall on one side are three tombs, and on the other side three, and in each chamber of the hall there are three tombs, and above one a slab near these wells, of which one is full and the other empty. The head of the <orgName>Captivity</orgName> ordered a wax light to be lit and search made whence the water came into the basins, but we never found that out. We then threw out on to the ground a great quantity of their water, but there was no alteration in its amount. This water is as sweet as honey. It is a very marvellous thing.\\nBeyond the door of the cave is a great hall, where there are three coffins, one alongside the other, and the third above bigger than the other two.\\nIn the city we found a tomb with a crown upon it as well as a very fine synagogue, the latter bears an inscription stating &#8220; This was built by <persName>Shalom ben Levi</persName> &#8221;.</seg> <seg xml:id=\"GN9S2\">Coming away from the city we discovered the sepulchre of Rabbi <persName>Simeon ben Hulda</persName>, and a little further on the tomb of the Prophet <persName>Obadiah</persName>.\\nThis latter is covered with a stoneof white marble on which is engraved : &#8220; This is the tomb of <persName>Obadiah</persName>, the prophet, who feared God from his childhood up, and who died in <date>the year 570</date> after the Exodus from Egypt.&#8221;</seg></ab> <ab xml:id=\"GN10\"><seg xml:id=\"GN10S1\">From there we came on to <placeName type=\"gpe\">Gush Halab</placeName>. Facing this city we found the sepulchres of <persName>Shemaiah</persName> and <persName>Abtalion</persName>. Alongside them are the tombs of <persName>Adrammelech</persName> and of <persName>Sharezer</persName>, the sons of <persName>Sennacherib</persName>, who became Jews and went to <placeName type=\"loc\">the Holy Land</placeName>. We stopped at <placeName type=\"gpe\">Gush Halab</placeName> and celebrated the feaft of <date>Purim</date> there. Its inhabitants are kind and benevolent. Wherever we came they assembled to meet us, as many as more than twice a &#8220; minyan &#8221; of ten, in honour of the chief of the Captivity.</seg>\\n<seg xml:id=\"GN10S2\">From <placeName type=\"gpe\">Gush Halab</placeName> we journeyed to <placeName type=\"gpe\">Alma</placeName>. Before reaching that place we found the sepulchre of Rabbi <persName>Eliezer [ben HyrcanusJ.</persName> Two trees adorn his tomb; not a leaf of them may be removed from them by anyone. He is buried in a cave in the middle of the ground. A sort of hall is set up over his tomb. A stone having fallen from this monument, a root at once thrust out of the gap thus left and filled its place ; and a branch pushing through another place encircled the sepulchre in such a fashion that it was no longer possible for a stoneof it to fall down. The Ishmaelites bring oil to burn there. It is a great and marvellous wonder.\\nA short diftance within is the tomb of Rabbi <persName>Eleazar</persName>, son of <persName>Arach</persName> ; and further away, opposite the trees, the sepulchre of Rabbi <persName>Eliezer</persName>, son of <persName>Azariah</persName>. Upon this tomb ftands a tree which surrounds it like a gridiron.</seg>\\n<seg xml:id=\"GN10S3\">From there we climbed up to <placeName type=\"gpe\">Silta</placeName>, and there we found the sepulchre of Rabbi <persName>Judah ben Tema</persName>.</seg> <seg xml:id=\"GN10S4\">Mounting higher still, we came upon the tomb of Rabbi <persName>Jose</persName>, the Galilean.</seg> <seg xml:id=\"GN10S5\">From this place we went to <placeName type=\"gpe\">Kefar Bar\\'am</placeName> and found there at the entrance of the city the tomb of <persName>Phineas ben Jair</persName>. It is adorned with a great monument in the form of a gridiron. Above this monument is built a very fine synagogue, the walls of which are still standing. We found here a place where there is a school.</seg></ab> <ab xml:id=\"GN11\"><seg xml:id=\"GN11S1\">Beneath the tomb of <persName>Obadiah the Prophet</persName>, mentioned above, I found the tomb of <persName>Barak</persName>, the son of <persName>Abinoam</persName>.</seg></ab>\\n<ab xml:id=\"GN12\"><seg xml:id=\"GN12S1\">From there we journeyed to <placeName type=\"gpe\">Dan</placeName>, where we saw the cave called <placeName type=\"loc\">Pameas</placeName> [<persName>Banias</persName>], from which the <placeName type=\"gpe\">Jordan</placeName> issues. Beyond this city is the sepulchre of <persName>Iddo</persName> the Prophet.</seg> <seg xml:id=\"GN12S2\">From <placeName type=\"gpe\">Dan</placeName> we travelled on to <placeName type=\"gpe\">Damascus</placeName>, and outside the city is a synagogue which <persName>Elijah</persName> had built. It is a very fine building, and we prayed there.</seg> <seg xml:id=\"GN12S3\">From <placeName type=\"gpe\">Damascus</placeName> we went on to <placeName type=\"gpe\">Nineveh</placeName> (<placeName type=\"gpe\">Mosul</placeName>). Here is to be seen the tomb of <persName>Shem</persName>, son of <persName>Noah</persName>. It was built by himself. There is a very fine synagogue in this city. According to an inscription engraved on a marble slab therein it was built by the Rabbi <persName>Judan</persName> and by Rabbi <persName>Levi</persName>, son of Rabbi <persName>Asher</persName>.</seg>\\n(Signed)&#8212;<seg xml:id=\"GN12S4\">Samuel Bar Samson.\\nJourneying from <placeName type=\"gpe\">Jerusalem</placeName> and from <placeName type=\"gpe\">Galilee</placeName> in <date>the year 970</date> (= <date>1210</date>). I have a firman with the seal of the King of Jerusalem attesting the truth of the present writing.</seg></ab></body>\\n      </text>'"
            ],
            "application/vnd.google.colaboratory.intrinsic+json": {
              "type": "string"
            }
          },
          "metadata": {},
          "execution_count": 17
        }
      ]
    },
    {
      "cell_type": "markdown",
      "source": [
        "## Export"
      ],
      "metadata": {
        "id": "n7y9-LjjhIed"
      }
    },
    {
      "cell_type": "code",
      "source": [
        "etree.ElementTree(so.tree.getroot()).write(so_ner_result)"
      ],
      "metadata": {
        "id": "eZ6_Pp4twJrk"
      },
      "execution_count": 18,
      "outputs": []
    }
  ]
}